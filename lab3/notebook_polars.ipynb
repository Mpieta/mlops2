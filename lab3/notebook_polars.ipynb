{
 "cells": [
  {
   "cell_type": "markdown",
   "id": "15710735-72e1-48cc-b404-bd7e7d09b0d9",
   "metadata": {
    "collapsed": true,
    "jupyter": {
     "outputs_hidden": true
    }
   },
   "source": [
    "# Polars introduction"
   ]
  },
  {
   "cell_type": "markdown",
   "id": "de66090e-1982-4ac9-a5d6-db28ef65d8c2",
   "metadata": {},
   "source": [
    "This notebook is loosely based on:\n",
    "- [\"A Practical Introduction to Polars for Python Data Processing\" P. Darugar](https://www.parand.com/a-practical-introduction-to-polars.html)\n",
    "- [\"Modern Polars\" K. Heavey](https://kevinheavey.github.io/modern-polars/)\n",
    "- [Polars user guide](https://pola-rs.github.io/polars-book/user-guide/)\n",
    "- [Polars blog - A bird's eye view of Polars](https://pola.rs/posts/polars_birds_eye_view/)"
   ]
  },
  {
   "cell_type": "markdown",
   "id": "7ca15f7e-ddd4-4347-95ba-6ef62a1cef7b",
   "metadata": {},
   "source": [
    "## Downloading data"
   ]
  },
  {
   "cell_type": "markdown",
   "id": "c0bc1b13-f9a9-4158-9727-8ef908f9b2a1",
   "metadata": {},
   "source": [
    "We will use [New York City yellow taxi trips](https://www.nyc.gov/site/tlc/about/tlc-trip-record-data.page) from 2024. This is a typical raw input to ML pipelines, with individual events as rows. We will download full 2024 data. Due to its size, it's already distributed as Parquet files. Feature descriptions are available [as a data dictionary document](https://www.nyc.gov/assets/tlc/downloads/pdf/data_dictionary_trip_records_yellow.pdf)."
   ]
  },
  {
   "cell_type": "code",
   "execution_count": 1,
   "id": "397cd0f3-f57c-4779-9f89-3fd116d3f33d",
   "metadata": {
    "scrolled": true
   },
   "outputs": [
    {
     "name": "stdout",
     "output_type": "stream",
     "text": [
      "Total dataset size: 660 MB\n"
     ]
    }
   ],
   "source": [
    "import os\n",
    "import subprocess\n",
    "\n",
    "import urllib.request\n",
    "\n",
    "DATA_DIR = \"data\"\n",
    "if not os.path.exists(DATA_DIR):\n",
    "    os.mkdir(DATA_DIR)\n",
    "\n",
    "\n",
    "for month in range(1, 13):\n",
    "    if not os.path.exists(f\"{DATA_DIR}/{month}.parquet\"):\n",
    "        \n",
    "        urllib.request.urlretrieve(\n",
    "            f\"https://d37ci6vzurychx.cloudfront.net/trip-data/yellow_tripdata_2024-{month:02}.parquet\",\n",
    "            f\"{DATA_DIR}/{month}.parquet\"\n",
    "        )\n",
    "\n",
    "        # subprocess.run(\n",
    "        #     [\n",
    "        #         \"wget\",\n",
    "        #         f\"https://d37ci6vzurychx.cloudfront.net/trip-data/yellow_tripdata_2024-{month:02}.parquet\",\n",
    "        #         \"-O\",\n",
    "        #         f\"{DATA_DIR}/{month}.parquet\",\n",
    "        #     ]\n",
    "        # )\n",
    "\n",
    "\n",
    "total_size = sum(\n",
    "    os.path.getsize(f\"{DATA_DIR}/{month}.parquet\") for month in range(1, 13)\n",
    ")  # bytes\n",
    "total_size_mb = total_size // (1024 * 1024)\n",
    "print(f\"Total dataset size: {total_size_mb} MB\")"
   ]
  },
  {
   "cell_type": "markdown",
   "id": "296cf618-247b-4559-b900-8d046fa3ea24",
   "metadata": {},
   "source": [
    "For later queries, we will also download mapping for location IDs."
   ]
  },
  {
   "cell_type": "code",
   "execution_count": 2,
   "id": "28473247-a398-478a-ab7f-e668cda55276",
   "metadata": {
    "scrolled": true
   },
   "outputs": [],
   "source": [
    "if not os.path.exists(f\"{DATA_DIR}/taxi_zone_lookup.csv\"):\n",
    "    urllib.request.urlretrieve(\n",
    "            f\"https://d37ci6vzurychx.cloudfront.net/misc/taxi_zone_lookup.csv\",\n",
    "            f\"{DATA_DIR}/taxi_zone_lookup.csv\"\n",
    "        )\n",
    "    \n",
    "    # subprocess.run(\n",
    "    #     [\n",
    "    #         \"wget\",\n",
    "    #         \"https://d37ci6vzurychx.cloudfront.net/misc/taxi_zone_lookup.csv\",\n",
    "    #         \"-O\",\n",
    "    #         f\"{DATA_DIR}/taxi_zone_lookup.csv\",\n",
    "    #     ]\n",
    "    # )"
   ]
  },
  {
   "cell_type": "markdown",
   "id": "b9c68e8a-48c9-410f-a233-71c902910d69",
   "metadata": {},
   "source": [
    "## DataFrames, selecting and filtering"
   ]
  },
  {
   "cell_type": "markdown",
   "id": "62e6e0ae-712f-4627-8a41-c171633aa323",
   "metadata": {},
   "source": [
    "Polars works generally very similarly to Pandas. We will use mostly eager evaluation here. If you run into memory problems, use only later month, e.g. 6-12."
   ]
  },
  {
   "cell_type": "code",
   "execution_count": 3,
   "id": "950a2447-2b9b-4a53-b5fd-93fe8d073ced",
   "metadata": {
    "scrolled": true
   },
   "outputs": [
    {
     "data": {
      "text/html": [
       "<div><style>\n",
       ".dataframe > thead > tr,\n",
       ".dataframe > tbody > tr {\n",
       "  text-align: right;\n",
       "  white-space: pre-wrap;\n",
       "}\n",
       "</style>\n",
       "<small>shape: (2_964_624, 19)</small><table border=\"1\" class=\"dataframe\"><thead><tr><th>VendorID</th><th>tpep_pickup_datetime</th><th>tpep_dropoff_datetime</th><th>passenger_count</th><th>trip_distance</th><th>RatecodeID</th><th>store_and_fwd_flag</th><th>PULocationID</th><th>DOLocationID</th><th>payment_type</th><th>fare_amount</th><th>extra</th><th>mta_tax</th><th>tip_amount</th><th>tolls_amount</th><th>improvement_surcharge</th><th>total_amount</th><th>congestion_surcharge</th><th>Airport_fee</th></tr><tr><td>i32</td><td>datetime[ns]</td><td>datetime[ns]</td><td>i64</td><td>f64</td><td>i64</td><td>str</td><td>i32</td><td>i32</td><td>i64</td><td>f64</td><td>f64</td><td>f64</td><td>f64</td><td>f64</td><td>f64</td><td>f64</td><td>f64</td><td>f64</td></tr></thead><tbody><tr><td>2</td><td>2024-01-01 00:57:55</td><td>2024-01-01 01:17:43</td><td>1</td><td>1.72</td><td>1</td><td>&quot;N&quot;</td><td>186</td><td>79</td><td>2</td><td>17.7</td><td>1.0</td><td>0.5</td><td>0.0</td><td>0.0</td><td>1.0</td><td>22.7</td><td>2.5</td><td>0.0</td></tr><tr><td>1</td><td>2024-01-01 00:03:00</td><td>2024-01-01 00:09:36</td><td>1</td><td>1.8</td><td>1</td><td>&quot;N&quot;</td><td>140</td><td>236</td><td>1</td><td>10.0</td><td>3.5</td><td>0.5</td><td>3.75</td><td>0.0</td><td>1.0</td><td>18.75</td><td>2.5</td><td>0.0</td></tr><tr><td>1</td><td>2024-01-01 00:17:06</td><td>2024-01-01 00:35:01</td><td>1</td><td>4.7</td><td>1</td><td>&quot;N&quot;</td><td>236</td><td>79</td><td>1</td><td>23.3</td><td>3.5</td><td>0.5</td><td>3.0</td><td>0.0</td><td>1.0</td><td>31.3</td><td>2.5</td><td>0.0</td></tr><tr><td>1</td><td>2024-01-01 00:36:38</td><td>2024-01-01 00:44:56</td><td>1</td><td>1.4</td><td>1</td><td>&quot;N&quot;</td><td>79</td><td>211</td><td>1</td><td>10.0</td><td>3.5</td><td>0.5</td><td>2.0</td><td>0.0</td><td>1.0</td><td>17.0</td><td>2.5</td><td>0.0</td></tr><tr><td>1</td><td>2024-01-01 00:46:51</td><td>2024-01-01 00:52:57</td><td>1</td><td>0.8</td><td>1</td><td>&quot;N&quot;</td><td>211</td><td>148</td><td>1</td><td>7.9</td><td>3.5</td><td>0.5</td><td>3.2</td><td>0.0</td><td>1.0</td><td>16.1</td><td>2.5</td><td>0.0</td></tr><tr><td>&hellip;</td><td>&hellip;</td><td>&hellip;</td><td>&hellip;</td><td>&hellip;</td><td>&hellip;</td><td>&hellip;</td><td>&hellip;</td><td>&hellip;</td><td>&hellip;</td><td>&hellip;</td><td>&hellip;</td><td>&hellip;</td><td>&hellip;</td><td>&hellip;</td><td>&hellip;</td><td>&hellip;</td><td>&hellip;</td><td>&hellip;</td></tr><tr><td>2</td><td>2024-01-31 23:45:59</td><td>2024-01-31 23:54:36</td><td>null</td><td>3.18</td><td>null</td><td>null</td><td>107</td><td>263</td><td>0</td><td>15.77</td><td>0.0</td><td>0.5</td><td>2.0</td><td>0.0</td><td>1.0</td><td>21.77</td><td>null</td><td>null</td></tr><tr><td>1</td><td>2024-01-31 23:13:07</td><td>2024-01-31 23:27:52</td><td>null</td><td>4.0</td><td>null</td><td>null</td><td>114</td><td>236</td><td>0</td><td>18.4</td><td>1.0</td><td>0.5</td><td>2.34</td><td>0.0</td><td>1.0</td><td>25.74</td><td>null</td><td>null</td></tr><tr><td>2</td><td>2024-01-31 23:19:00</td><td>2024-01-31 23:38:00</td><td>null</td><td>3.33</td><td>null</td><td>null</td><td>211</td><td>25</td><td>0</td><td>19.97</td><td>0.0</td><td>0.5</td><td>0.0</td><td>0.0</td><td>1.0</td><td>23.97</td><td>null</td><td>null</td></tr><tr><td>2</td><td>2024-01-31 23:07:23</td><td>2024-01-31 23:25:14</td><td>null</td><td>3.06</td><td>null</td><td>null</td><td>107</td><td>13</td><td>0</td><td>23.88</td><td>0.0</td><td>0.5</td><td>5.58</td><td>0.0</td><td>1.0</td><td>33.46</td><td>null</td><td>null</td></tr><tr><td>1</td><td>2024-01-31 23:58:25</td><td>2024-02-01 00:13:30</td><td>null</td><td>8.1</td><td>null</td><td>null</td><td>138</td><td>75</td><td>0</td><td>32.4</td><td>7.75</td><td>0.5</td><td>7.29</td><td>6.94</td><td>1.0</td><td>55.88</td><td>null</td><td>null</td></tr></tbody></table></div>"
      ],
      "text/plain": [
       "shape: (2_964_624, 19)\n",
       "┌──────────┬──────────────┬──────────────┬──────────────┬───┬──────────────┬──────────────┬──────────────┬─────────────┐\n",
       "│ VendorID ┆ tpep_pickup_ ┆ tpep_dropoff ┆ passenger_co ┆ … ┆ improvement_ ┆ total_amount ┆ congestion_s ┆ Airport_fee │\n",
       "│ ---      ┆ datetime     ┆ _datetime    ┆ unt          ┆   ┆ surcharge    ┆ ---          ┆ urcharge     ┆ ---         │\n",
       "│ i32      ┆ ---          ┆ ---          ┆ ---          ┆   ┆ ---          ┆ f64          ┆ ---          ┆ f64         │\n",
       "│          ┆ datetime[ns] ┆ datetime[ns] ┆ i64          ┆   ┆ f64          ┆              ┆ f64          ┆             │\n",
       "╞══════════╪══════════════╪══════════════╪══════════════╪═══╪══════════════╪══════════════╪══════════════╪═════════════╡\n",
       "│ 2        ┆ 2024-01-01   ┆ 2024-01-01   ┆ 1            ┆ … ┆ 1.0          ┆ 22.7         ┆ 2.5          ┆ 0.0         │\n",
       "│          ┆ 00:57:55     ┆ 01:17:43     ┆              ┆   ┆              ┆              ┆              ┆             │\n",
       "│ 1        ┆ 2024-01-01   ┆ 2024-01-01   ┆ 1            ┆ … ┆ 1.0          ┆ 18.75        ┆ 2.5          ┆ 0.0         │\n",
       "│          ┆ 00:03:00     ┆ 00:09:36     ┆              ┆   ┆              ┆              ┆              ┆             │\n",
       "│ 1        ┆ 2024-01-01   ┆ 2024-01-01   ┆ 1            ┆ … ┆ 1.0          ┆ 31.3         ┆ 2.5          ┆ 0.0         │\n",
       "│          ┆ 00:17:06     ┆ 00:35:01     ┆              ┆   ┆              ┆              ┆              ┆             │\n",
       "│ 1        ┆ 2024-01-01   ┆ 2024-01-01   ┆ 1            ┆ … ┆ 1.0          ┆ 17.0         ┆ 2.5          ┆ 0.0         │\n",
       "│          ┆ 00:36:38     ┆ 00:44:56     ┆              ┆   ┆              ┆              ┆              ┆             │\n",
       "│ 1        ┆ 2024-01-01   ┆ 2024-01-01   ┆ 1            ┆ … ┆ 1.0          ┆ 16.1         ┆ 2.5          ┆ 0.0         │\n",
       "│          ┆ 00:46:51     ┆ 00:52:57     ┆              ┆   ┆              ┆              ┆              ┆             │\n",
       "│ …        ┆ …            ┆ …            ┆ …            ┆ … ┆ …            ┆ …            ┆ …            ┆ …           │\n",
       "│ 2        ┆ 2024-01-31   ┆ 2024-01-31   ┆ null         ┆ … ┆ 1.0          ┆ 21.77        ┆ null         ┆ null        │\n",
       "│          ┆ 23:45:59     ┆ 23:54:36     ┆              ┆   ┆              ┆              ┆              ┆             │\n",
       "│ 1        ┆ 2024-01-31   ┆ 2024-01-31   ┆ null         ┆ … ┆ 1.0          ┆ 25.74        ┆ null         ┆ null        │\n",
       "│          ┆ 23:13:07     ┆ 23:27:52     ┆              ┆   ┆              ┆              ┆              ┆             │\n",
       "│ 2        ┆ 2024-01-31   ┆ 2024-01-31   ┆ null         ┆ … ┆ 1.0          ┆ 23.97        ┆ null         ┆ null        │\n",
       "│          ┆ 23:19:00     ┆ 23:38:00     ┆              ┆   ┆              ┆              ┆              ┆             │\n",
       "│ 2        ┆ 2024-01-31   ┆ 2024-01-31   ┆ null         ┆ … ┆ 1.0          ┆ 33.46        ┆ null         ┆ null        │\n",
       "│          ┆ 23:07:23     ┆ 23:25:14     ┆              ┆   ┆              ┆              ┆              ┆             │\n",
       "│ 1        ┆ 2024-01-31   ┆ 2024-02-01   ┆ null         ┆ … ┆ 1.0          ┆ 55.88        ┆ null         ┆ null        │\n",
       "│          ┆ 23:58:25     ┆ 00:13:30     ┆              ┆   ┆              ┆              ┆              ┆             │\n",
       "└──────────┴──────────────┴──────────────┴──────────────┴───┴──────────────┴──────────────┴──────────────┴─────────────┘"
      ]
     },
     "execution_count": 3,
     "metadata": {},
     "output_type": "execute_result"
    }
   ],
   "source": [
    "import polars as pl\n",
    "\n",
    "df = pl.read_parquet(f\"{DATA_DIR}/1.parquet\")\n",
    "df"
   ]
  },
  {
   "cell_type": "code",
   "execution_count": 4,
   "id": "5d4d82c5-256b-4e86-a16d-37b173c5be53",
   "metadata": {},
   "outputs": [
    {
     "data": {
      "text/plain": [
       "polars.dataframe.frame.DataFrame"
      ]
     },
     "execution_count": 4,
     "metadata": {},
     "output_type": "execute_result"
    }
   ],
   "source": [
    "type(df)"
   ]
  },
  {
   "cell_type": "markdown",
   "id": "a6e3330c-0b7b-43fa-bcbd-e2fbb6ffcbfe",
   "metadata": {},
   "source": [
    "Checking columns, data types, and shape is also similar to Pandas."
   ]
  },
  {
   "cell_type": "code",
   "execution_count": 5,
   "id": "2ce6888f-7806-4e4d-bce8-aacadb05e53c",
   "metadata": {
    "scrolled": true
   },
   "outputs": [
    {
     "data": {
      "text/plain": [
       "['VendorID',\n",
       " 'tpep_pickup_datetime',\n",
       " 'tpep_dropoff_datetime',\n",
       " 'passenger_count',\n",
       " 'trip_distance',\n",
       " 'RatecodeID',\n",
       " 'store_and_fwd_flag',\n",
       " 'PULocationID',\n",
       " 'DOLocationID',\n",
       " 'payment_type',\n",
       " 'fare_amount',\n",
       " 'extra',\n",
       " 'mta_tax',\n",
       " 'tip_amount',\n",
       " 'tolls_amount',\n",
       " 'improvement_surcharge',\n",
       " 'total_amount',\n",
       " 'congestion_surcharge',\n",
       " 'Airport_fee']"
      ]
     },
     "execution_count": 5,
     "metadata": {},
     "output_type": "execute_result"
    }
   ],
   "source": [
    "# Python list of strings\n",
    "df.columns"
   ]
  },
  {
   "cell_type": "code",
   "execution_count": 6,
   "id": "746407a6-20be-428c-8725-3a67e6d9ba60",
   "metadata": {
    "scrolled": true
   },
   "outputs": [
    {
     "data": {
      "text/plain": [
       "[Int32,\n",
       " Datetime(time_unit='ns', time_zone=None),\n",
       " Datetime(time_unit='ns', time_zone=None),\n",
       " Int64,\n",
       " Float64,\n",
       " Int64,\n",
       " String,\n",
       " Int32,\n",
       " Int32,\n",
       " Int64,\n",
       " Float64,\n",
       " Float64,\n",
       " Float64,\n",
       " Float64,\n",
       " Float64,\n",
       " Float64,\n",
       " Float64,\n",
       " Float64,\n",
       " Float64]"
      ]
     },
     "execution_count": 6,
     "metadata": {},
     "output_type": "execute_result"
    }
   ],
   "source": [
    "# Python list of data types from pd.datatypes\n",
    "df.dtypes"
   ]
  },
  {
   "cell_type": "code",
   "execution_count": 7,
   "id": "60f1393e-812a-49f6-8e6d-a1d9924f4eca",
   "metadata": {},
   "outputs": [
    {
     "data": {
      "text/plain": [
       "(2964624, 19)"
      ]
     },
     "execution_count": 7,
     "metadata": {},
     "output_type": "execute_result"
    }
   ],
   "source": [
    "# tuple of integers\n",
    "df.shape"
   ]
  },
  {
   "cell_type": "markdown",
   "id": "9f30ba94-91e4-4366-afe2-61268d7b2075",
   "metadata": {},
   "source": [
    "A few basics:\n",
    "- **selecting** columns is done with `.select()`\n",
    "- **filtering** rows is done with `.filter()`\n",
    "- **columns** are used either as strings for simple uses, or as objects created with `pl.col(col_name)` for more complex transformations\n",
    "- **expressions** are lazily evaluated objects (always, even in eager mode), representing data transformations\n",
    "- **methods** are typically run on expressions, e.g. `.is_null()`\n",
    "\n",
    "Selecting and filtering operations take columns or expressions. A single column is also an expression. Let's see a few examples."
   ]
  },
  {
   "cell_type": "code",
   "execution_count": 8,
   "id": "d39b2bc6-11ed-40a7-be12-f28e9be82312",
   "metadata": {
    "scrolled": true
   },
   "outputs": [
    {
     "data": {
      "text/html": [
       "<div><style>\n",
       ".dataframe > thead > tr,\n",
       ".dataframe > tbody > tr {\n",
       "  text-align: right;\n",
       "  white-space: pre-wrap;\n",
       "}\n",
       "</style>\n",
       "<small>shape: (2_964_624, 1)</small><table border=\"1\" class=\"dataframe\"><thead><tr><th>passenger_count</th></tr><tr><td>i64</td></tr></thead><tbody><tr><td>1</td></tr><tr><td>1</td></tr><tr><td>1</td></tr><tr><td>1</td></tr><tr><td>1</td></tr><tr><td>&hellip;</td></tr><tr><td>null</td></tr><tr><td>null</td></tr><tr><td>null</td></tr><tr><td>null</td></tr><tr><td>null</td></tr></tbody></table></div>"
      ],
      "text/plain": [
       "shape: (2_964_624, 1)\n",
       "┌─────────────────┐\n",
       "│ passenger_count │\n",
       "│ ---             │\n",
       "│ i64             │\n",
       "╞═════════════════╡\n",
       "│ 1               │\n",
       "│ 1               │\n",
       "│ 1               │\n",
       "│ 1               │\n",
       "│ 1               │\n",
       "│ …               │\n",
       "│ null            │\n",
       "│ null            │\n",
       "│ null            │\n",
       "│ null            │\n",
       "│ null            │\n",
       "└─────────────────┘"
      ]
     },
     "execution_count": 8,
     "metadata": {},
     "output_type": "execute_result"
    }
   ],
   "source": [
    "df.select(\"passenger_count\")"
   ]
  },
  {
   "cell_type": "code",
   "execution_count": 9,
   "id": "03f3712c-a35e-40b4-9f44-743912fce177",
   "metadata": {
    "scrolled": true
   },
   "outputs": [
    {
     "data": {
      "text/html": [
       "<div><style>\n",
       ".dataframe > thead > tr,\n",
       ".dataframe > tbody > tr {\n",
       "  text-align: right;\n",
       "  white-space: pre-wrap;\n",
       "}\n",
       "</style>\n",
       "<small>shape: (2_964_624, 1)</small><table border=\"1\" class=\"dataframe\"><thead><tr><th>passenger_count</th></tr><tr><td>i64</td></tr></thead><tbody><tr><td>1</td></tr><tr><td>1</td></tr><tr><td>1</td></tr><tr><td>1</td></tr><tr><td>1</td></tr><tr><td>&hellip;</td></tr><tr><td>null</td></tr><tr><td>null</td></tr><tr><td>null</td></tr><tr><td>null</td></tr><tr><td>null</td></tr></tbody></table></div>"
      ],
      "text/plain": [
       "shape: (2_964_624, 1)\n",
       "┌─────────────────┐\n",
       "│ passenger_count │\n",
       "│ ---             │\n",
       "│ i64             │\n",
       "╞═════════════════╡\n",
       "│ 1               │\n",
       "│ 1               │\n",
       "│ 1               │\n",
       "│ 1               │\n",
       "│ 1               │\n",
       "│ …               │\n",
       "│ null            │\n",
       "│ null            │\n",
       "│ null            │\n",
       "│ null            │\n",
       "│ null            │\n",
       "└─────────────────┘"
      ]
     },
     "execution_count": 9,
     "metadata": {},
     "output_type": "execute_result"
    }
   ],
   "source": [
    "df.select(pl.col(\"passenger_count\"))"
   ]
  },
  {
   "cell_type": "code",
   "execution_count": 10,
   "id": "9e1ef2e9-fe11-4e64-84f8-e068645054fa",
   "metadata": {},
   "outputs": [
    {
     "data": {
      "text/html": [
       "<div><style>\n",
       ".dataframe > thead > tr,\n",
       ".dataframe > tbody > tr {\n",
       "  text-align: right;\n",
       "  white-space: pre-wrap;\n",
       "}\n",
       "</style>\n",
       "<small>shape: (2_824_462, 19)</small><table border=\"1\" class=\"dataframe\"><thead><tr><th>VendorID</th><th>tpep_pickup_datetime</th><th>tpep_dropoff_datetime</th><th>passenger_count</th><th>trip_distance</th><th>RatecodeID</th><th>store_and_fwd_flag</th><th>PULocationID</th><th>DOLocationID</th><th>payment_type</th><th>fare_amount</th><th>extra</th><th>mta_tax</th><th>tip_amount</th><th>tolls_amount</th><th>improvement_surcharge</th><th>total_amount</th><th>congestion_surcharge</th><th>Airport_fee</th></tr><tr><td>i32</td><td>datetime[ns]</td><td>datetime[ns]</td><td>i64</td><td>f64</td><td>i64</td><td>str</td><td>i32</td><td>i32</td><td>i64</td><td>f64</td><td>f64</td><td>f64</td><td>f64</td><td>f64</td><td>f64</td><td>f64</td><td>f64</td><td>f64</td></tr></thead><tbody><tr><td>2</td><td>2024-01-01 00:57:55</td><td>2024-01-01 01:17:43</td><td>1</td><td>1.72</td><td>1</td><td>&quot;N&quot;</td><td>186</td><td>79</td><td>2</td><td>17.7</td><td>1.0</td><td>0.5</td><td>0.0</td><td>0.0</td><td>1.0</td><td>22.7</td><td>2.5</td><td>0.0</td></tr><tr><td>1</td><td>2024-01-01 00:03:00</td><td>2024-01-01 00:09:36</td><td>1</td><td>1.8</td><td>1</td><td>&quot;N&quot;</td><td>140</td><td>236</td><td>1</td><td>10.0</td><td>3.5</td><td>0.5</td><td>3.75</td><td>0.0</td><td>1.0</td><td>18.75</td><td>2.5</td><td>0.0</td></tr><tr><td>1</td><td>2024-01-01 00:17:06</td><td>2024-01-01 00:35:01</td><td>1</td><td>4.7</td><td>1</td><td>&quot;N&quot;</td><td>236</td><td>79</td><td>1</td><td>23.3</td><td>3.5</td><td>0.5</td><td>3.0</td><td>0.0</td><td>1.0</td><td>31.3</td><td>2.5</td><td>0.0</td></tr><tr><td>1</td><td>2024-01-01 00:36:38</td><td>2024-01-01 00:44:56</td><td>1</td><td>1.4</td><td>1</td><td>&quot;N&quot;</td><td>79</td><td>211</td><td>1</td><td>10.0</td><td>3.5</td><td>0.5</td><td>2.0</td><td>0.0</td><td>1.0</td><td>17.0</td><td>2.5</td><td>0.0</td></tr><tr><td>1</td><td>2024-01-01 00:46:51</td><td>2024-01-01 00:52:57</td><td>1</td><td>0.8</td><td>1</td><td>&quot;N&quot;</td><td>211</td><td>148</td><td>1</td><td>7.9</td><td>3.5</td><td>0.5</td><td>3.2</td><td>0.0</td><td>1.0</td><td>16.1</td><td>2.5</td><td>0.0</td></tr><tr><td>&hellip;</td><td>&hellip;</td><td>&hellip;</td><td>&hellip;</td><td>&hellip;</td><td>&hellip;</td><td>&hellip;</td><td>&hellip;</td><td>&hellip;</td><td>&hellip;</td><td>&hellip;</td><td>&hellip;</td><td>&hellip;</td><td>&hellip;</td><td>&hellip;</td><td>&hellip;</td><td>&hellip;</td><td>&hellip;</td><td>&hellip;</td></tr><tr><td>2</td><td>2024-01-31 23:10:28</td><td>2024-01-31 23:18:30</td><td>1</td><td>3.51</td><td>1</td><td>&quot;N&quot;</td><td>138</td><td>129</td><td>1</td><td>16.3</td><td>6.0</td><td>0.5</td><td>4.76</td><td>0.0</td><td>1.0</td><td>30.31</td><td>0.0</td><td>1.75</td></tr><tr><td>2</td><td>2024-01-31 23:01:04</td><td>2024-01-31 23:17:35</td><td>1</td><td>3.36</td><td>1</td><td>&quot;N&quot;</td><td>162</td><td>261</td><td>1</td><td>18.4</td><td>1.0</td><td>0.5</td><td>5.85</td><td>0.0</td><td>1.0</td><td>29.25</td><td>2.5</td><td>0.0</td></tr><tr><td>1</td><td>2024-01-31 23:08:13</td><td>2024-01-31 23:25:00</td><td>3</td><td>3.3</td><td>1</td><td>&quot;N&quot;</td><td>43</td><td>249</td><td>1</td><td>17.7</td><td>3.5</td><td>0.5</td><td>1.0</td><td>0.0</td><td>1.0</td><td>23.7</td><td>2.5</td><td>0.0</td></tr><tr><td>1</td><td>2024-01-31 23:49:46</td><td>2024-01-31 23:53:10</td><td>0</td><td>0.4</td><td>1</td><td>&quot;N&quot;</td><td>142</td><td>163</td><td>2</td><td>5.1</td><td>3.5</td><td>0.5</td><td>0.0</td><td>0.0</td><td>1.0</td><td>10.1</td><td>2.5</td><td>0.0</td></tr><tr><td>2</td><td>2024-01-31 23:03:26</td><td>2024-01-31 23:09:12</td><td>1</td><td>1.58</td><td>1</td><td>&quot;N&quot;</td><td>140</td><td>263</td><td>1</td><td>8.6</td><td>1.0</td><td>0.5</td><td>2.72</td><td>0.0</td><td>1.0</td><td>16.32</td><td>2.5</td><td>0.0</td></tr></tbody></table></div>"
      ],
      "text/plain": [
       "shape: (2_824_462, 19)\n",
       "┌──────────┬──────────────┬──────────────┬──────────────┬───┬──────────────┬──────────────┬──────────────┬─────────────┐\n",
       "│ VendorID ┆ tpep_pickup_ ┆ tpep_dropoff ┆ passenger_co ┆ … ┆ improvement_ ┆ total_amount ┆ congestion_s ┆ Airport_fee │\n",
       "│ ---      ┆ datetime     ┆ _datetime    ┆ unt          ┆   ┆ surcharge    ┆ ---          ┆ urcharge     ┆ ---         │\n",
       "│ i32      ┆ ---          ┆ ---          ┆ ---          ┆   ┆ ---          ┆ f64          ┆ ---          ┆ f64         │\n",
       "│          ┆ datetime[ns] ┆ datetime[ns] ┆ i64          ┆   ┆ f64          ┆              ┆ f64          ┆             │\n",
       "╞══════════╪══════════════╪══════════════╪══════════════╪═══╪══════════════╪══════════════╪══════════════╪═════════════╡\n",
       "│ 2        ┆ 2024-01-01   ┆ 2024-01-01   ┆ 1            ┆ … ┆ 1.0          ┆ 22.7         ┆ 2.5          ┆ 0.0         │\n",
       "│          ┆ 00:57:55     ┆ 01:17:43     ┆              ┆   ┆              ┆              ┆              ┆             │\n",
       "│ 1        ┆ 2024-01-01   ┆ 2024-01-01   ┆ 1            ┆ … ┆ 1.0          ┆ 18.75        ┆ 2.5          ┆ 0.0         │\n",
       "│          ┆ 00:03:00     ┆ 00:09:36     ┆              ┆   ┆              ┆              ┆              ┆             │\n",
       "│ 1        ┆ 2024-01-01   ┆ 2024-01-01   ┆ 1            ┆ … ┆ 1.0          ┆ 31.3         ┆ 2.5          ┆ 0.0         │\n",
       "│          ┆ 00:17:06     ┆ 00:35:01     ┆              ┆   ┆              ┆              ┆              ┆             │\n",
       "│ 1        ┆ 2024-01-01   ┆ 2024-01-01   ┆ 1            ┆ … ┆ 1.0          ┆ 17.0         ┆ 2.5          ┆ 0.0         │\n",
       "│          ┆ 00:36:38     ┆ 00:44:56     ┆              ┆   ┆              ┆              ┆              ┆             │\n",
       "│ 1        ┆ 2024-01-01   ┆ 2024-01-01   ┆ 1            ┆ … ┆ 1.0          ┆ 16.1         ┆ 2.5          ┆ 0.0         │\n",
       "│          ┆ 00:46:51     ┆ 00:52:57     ┆              ┆   ┆              ┆              ┆              ┆             │\n",
       "│ …        ┆ …            ┆ …            ┆ …            ┆ … ┆ …            ┆ …            ┆ …            ┆ …           │\n",
       "│ 2        ┆ 2024-01-31   ┆ 2024-01-31   ┆ 1            ┆ … ┆ 1.0          ┆ 30.31        ┆ 0.0          ┆ 1.75        │\n",
       "│          ┆ 23:10:28     ┆ 23:18:30     ┆              ┆   ┆              ┆              ┆              ┆             │\n",
       "│ 2        ┆ 2024-01-31   ┆ 2024-01-31   ┆ 1            ┆ … ┆ 1.0          ┆ 29.25        ┆ 2.5          ┆ 0.0         │\n",
       "│          ┆ 23:01:04     ┆ 23:17:35     ┆              ┆   ┆              ┆              ┆              ┆             │\n",
       "│ 1        ┆ 2024-01-31   ┆ 2024-01-31   ┆ 3            ┆ … ┆ 1.0          ┆ 23.7         ┆ 2.5          ┆ 0.0         │\n",
       "│          ┆ 23:08:13     ┆ 23:25:00     ┆              ┆   ┆              ┆              ┆              ┆             │\n",
       "│ 1        ┆ 2024-01-31   ┆ 2024-01-31   ┆ 0            ┆ … ┆ 1.0          ┆ 10.1         ┆ 2.5          ┆ 0.0         │\n",
       "│          ┆ 23:49:46     ┆ 23:53:10     ┆              ┆   ┆              ┆              ┆              ┆             │\n",
       "│ 2        ┆ 2024-01-31   ┆ 2024-01-31   ┆ 1            ┆ … ┆ 1.0          ┆ 16.32        ┆ 2.5          ┆ 0.0         │\n",
       "│          ┆ 23:03:26     ┆ 23:09:12     ┆              ┆   ┆              ┆              ┆              ┆             │\n",
       "└──────────┴──────────────┴──────────────┴──────────────┴───┴──────────────┴──────────────┴──────────────┴─────────────┘"
      ]
     },
     "execution_count": 10,
     "metadata": {},
     "output_type": "execute_result"
    }
   ],
   "source": [
    "df.filter(pl.col(\"passenger_count\").is_not_null())"
   ]
  },
  {
   "cell_type": "markdown",
   "id": "51406a91-c296-4a46-b646-94bbf8871e9f",
   "metadata": {},
   "source": [
    "Filters can be combined with `&` (AND) and `|` (OR), or negated with `~`, like in Pandas. For AND, you can also pass filters as a list."
   ]
  },
  {
   "cell_type": "code",
   "execution_count": 11,
   "id": "e1738167-17d3-41e9-8ab6-bb9753ecd164",
   "metadata": {},
   "outputs": [
    {
     "data": {
      "text/html": [
       "<div><style>\n",
       ".dataframe > thead > tr,\n",
       ".dataframe > tbody > tr {\n",
       "  text-align: right;\n",
       "  white-space: pre-wrap;\n",
       "}\n",
       "</style>\n",
       "<small>shape: (635_622, 19)</small><table border=\"1\" class=\"dataframe\"><thead><tr><th>VendorID</th><th>tpep_pickup_datetime</th><th>tpep_dropoff_datetime</th><th>passenger_count</th><th>trip_distance</th><th>RatecodeID</th><th>store_and_fwd_flag</th><th>PULocationID</th><th>DOLocationID</th><th>payment_type</th><th>fare_amount</th><th>extra</th><th>mta_tax</th><th>tip_amount</th><th>tolls_amount</th><th>improvement_surcharge</th><th>total_amount</th><th>congestion_surcharge</th><th>Airport_fee</th></tr><tr><td>i32</td><td>datetime[ns]</td><td>datetime[ns]</td><td>i64</td><td>f64</td><td>i64</td><td>str</td><td>i32</td><td>i32</td><td>i64</td><td>f64</td><td>f64</td><td>f64</td><td>f64</td><td>f64</td><td>f64</td><td>f64</td><td>f64</td><td>f64</td></tr></thead><tbody><tr><td>2</td><td>2024-01-01 00:57:55</td><td>2024-01-01 01:17:43</td><td>1</td><td>1.72</td><td>1</td><td>&quot;N&quot;</td><td>186</td><td>79</td><td>2</td><td>17.7</td><td>1.0</td><td>0.5</td><td>0.0</td><td>0.0</td><td>1.0</td><td>22.7</td><td>2.5</td><td>0.0</td></tr><tr><td>1</td><td>2024-01-01 00:30:40</td><td>2024-01-01 00:58:40</td><td>0</td><td>3.0</td><td>1</td><td>&quot;N&quot;</td><td>246</td><td>231</td><td>2</td><td>25.4</td><td>3.5</td><td>0.5</td><td>0.0</td><td>0.0</td><td>1.0</td><td>30.4</td><td>2.5</td><td>0.0</td></tr><tr><td>2</td><td>2024-01-01 00:26:01</td><td>2024-01-01 00:54:12</td><td>1</td><td>5.44</td><td>1</td><td>&quot;N&quot;</td><td>161</td><td>261</td><td>2</td><td>31.0</td><td>1.0</td><td>0.5</td><td>0.0</td><td>0.0</td><td>1.0</td><td>36.0</td><td>2.5</td><td>0.0</td></tr><tr><td>2</td><td>2024-01-01 00:28:08</td><td>2024-01-01 00:29:16</td><td>1</td><td>0.04</td><td>1</td><td>&quot;N&quot;</td><td>113</td><td>113</td><td>2</td><td>3.0</td><td>1.0</td><td>0.5</td><td>0.0</td><td>0.0</td><td>1.0</td><td>8.0</td><td>2.5</td><td>0.0</td></tr><tr><td>2</td><td>2024-01-01 00:35:22</td><td>2024-01-01 00:41:41</td><td>2</td><td>0.75</td><td>1</td><td>&quot;N&quot;</td><td>107</td><td>137</td><td>1</td><td>7.9</td><td>1.0</td><td>0.5</td><td>0.0</td><td>0.0</td><td>1.0</td><td>12.9</td><td>2.5</td><td>0.0</td></tr><tr><td>&hellip;</td><td>&hellip;</td><td>&hellip;</td><td>&hellip;</td><td>&hellip;</td><td>&hellip;</td><td>&hellip;</td><td>&hellip;</td><td>&hellip;</td><td>&hellip;</td><td>&hellip;</td><td>&hellip;</td><td>&hellip;</td><td>&hellip;</td><td>&hellip;</td><td>&hellip;</td><td>&hellip;</td><td>&hellip;</td><td>&hellip;</td></tr><tr><td>1</td><td>2024-01-31 23:44:29</td><td>2024-01-31 23:56:23</td><td>2</td><td>1.3</td><td>1</td><td>&quot;N&quot;</td><td>68</td><td>246</td><td>2</td><td>10.0</td><td>3.5</td><td>0.5</td><td>0.0</td><td>0.0</td><td>1.0</td><td>15.0</td><td>2.5</td><td>0.0</td></tr><tr><td>1</td><td>2024-01-31 23:31:32</td><td>2024-01-31 23:40:41</td><td>1</td><td>1.6</td><td>1</td><td>&quot;Y&quot;</td><td>234</td><td>48</td><td>1</td><td>10.7</td><td>3.5</td><td>0.5</td><td>0.0</td><td>0.0</td><td>1.0</td><td>15.7</td><td>2.5</td><td>0.0</td></tr><tr><td>2</td><td>2024-01-31 23:25:48</td><td>2024-01-31 23:25:55</td><td>1</td><td>0.0</td><td>2</td><td>&quot;N&quot;</td><td>50</td><td>50</td><td>2</td><td>70.0</td><td>0.0</td><td>0.5</td><td>0.0</td><td>0.0</td><td>1.0</td><td>74.0</td><td>2.5</td><td>0.0</td></tr><tr><td>2</td><td>2024-01-31 23:26:33</td><td>2024-01-31 23:29:26</td><td>1</td><td>0.09</td><td>1</td><td>&quot;N&quot;</td><td>50</td><td>50</td><td>2</td><td>4.4</td><td>1.0</td><td>0.5</td><td>0.0</td><td>0.0</td><td>1.0</td><td>9.4</td><td>2.5</td><td>0.0</td></tr><tr><td>1</td><td>2024-01-31 23:49:46</td><td>2024-01-31 23:53:10</td><td>0</td><td>0.4</td><td>1</td><td>&quot;N&quot;</td><td>142</td><td>163</td><td>2</td><td>5.1</td><td>3.5</td><td>0.5</td><td>0.0</td><td>0.0</td><td>1.0</td><td>10.1</td><td>2.5</td><td>0.0</td></tr></tbody></table></div>"
      ],
      "text/plain": [
       "shape: (635_622, 19)\n",
       "┌──────────┬──────────────┬──────────────┬──────────────┬───┬──────────────┬──────────────┬──────────────┬─────────────┐\n",
       "│ VendorID ┆ tpep_pickup_ ┆ tpep_dropoff ┆ passenger_co ┆ … ┆ improvement_ ┆ total_amount ┆ congestion_s ┆ Airport_fee │\n",
       "│ ---      ┆ datetime     ┆ _datetime    ┆ unt          ┆   ┆ surcharge    ┆ ---          ┆ urcharge     ┆ ---         │\n",
       "│ i32      ┆ ---          ┆ ---          ┆ ---          ┆   ┆ ---          ┆ f64          ┆ ---          ┆ f64         │\n",
       "│          ┆ datetime[ns] ┆ datetime[ns] ┆ i64          ┆   ┆ f64          ┆              ┆ f64          ┆             │\n",
       "╞══════════╪══════════════╪══════════════╪══════════════╪═══╪══════════════╪══════════════╪══════════════╪═════════════╡\n",
       "│ 2        ┆ 2024-01-01   ┆ 2024-01-01   ┆ 1            ┆ … ┆ 1.0          ┆ 22.7         ┆ 2.5          ┆ 0.0         │\n",
       "│          ┆ 00:57:55     ┆ 01:17:43     ┆              ┆   ┆              ┆              ┆              ┆             │\n",
       "│ 1        ┆ 2024-01-01   ┆ 2024-01-01   ┆ 0            ┆ … ┆ 1.0          ┆ 30.4         ┆ 2.5          ┆ 0.0         │\n",
       "│          ┆ 00:30:40     ┆ 00:58:40     ┆              ┆   ┆              ┆              ┆              ┆             │\n",
       "│ 2        ┆ 2024-01-01   ┆ 2024-01-01   ┆ 1            ┆ … ┆ 1.0          ┆ 36.0         ┆ 2.5          ┆ 0.0         │\n",
       "│          ┆ 00:26:01     ┆ 00:54:12     ┆              ┆   ┆              ┆              ┆              ┆             │\n",
       "│ 2        ┆ 2024-01-01   ┆ 2024-01-01   ┆ 1            ┆ … ┆ 1.0          ┆ 8.0          ┆ 2.5          ┆ 0.0         │\n",
       "│          ┆ 00:28:08     ┆ 00:29:16     ┆              ┆   ┆              ┆              ┆              ┆             │\n",
       "│ 2        ┆ 2024-01-01   ┆ 2024-01-01   ┆ 2            ┆ … ┆ 1.0          ┆ 12.9         ┆ 2.5          ┆ 0.0         │\n",
       "│          ┆ 00:35:22     ┆ 00:41:41     ┆              ┆   ┆              ┆              ┆              ┆             │\n",
       "│ …        ┆ …            ┆ …            ┆ …            ┆ … ┆ …            ┆ …            ┆ …            ┆ …           │\n",
       "│ 1        ┆ 2024-01-31   ┆ 2024-01-31   ┆ 2            ┆ … ┆ 1.0          ┆ 15.0         ┆ 2.5          ┆ 0.0         │\n",
       "│          ┆ 23:44:29     ┆ 23:56:23     ┆              ┆   ┆              ┆              ┆              ┆             │\n",
       "│ 1        ┆ 2024-01-31   ┆ 2024-01-31   ┆ 1            ┆ … ┆ 1.0          ┆ 15.7         ┆ 2.5          ┆ 0.0         │\n",
       "│          ┆ 23:31:32     ┆ 23:40:41     ┆              ┆   ┆              ┆              ┆              ┆             │\n",
       "│ 2        ┆ 2024-01-31   ┆ 2024-01-31   ┆ 1            ┆ … ┆ 1.0          ┆ 74.0         ┆ 2.5          ┆ 0.0         │\n",
       "│          ┆ 23:25:48     ┆ 23:25:55     ┆              ┆   ┆              ┆              ┆              ┆             │\n",
       "│ 2        ┆ 2024-01-31   ┆ 2024-01-31   ┆ 1            ┆ … ┆ 1.0          ┆ 9.4          ┆ 2.5          ┆ 0.0         │\n",
       "│          ┆ 23:26:33     ┆ 23:29:26     ┆              ┆   ┆              ┆              ┆              ┆             │\n",
       "│ 1        ┆ 2024-01-31   ┆ 2024-01-31   ┆ 0            ┆ … ┆ 1.0          ┆ 10.1         ┆ 2.5          ┆ 0.0         │\n",
       "│          ┆ 23:49:46     ┆ 23:53:10     ┆              ┆   ┆              ┆              ┆              ┆             │\n",
       "└──────────┴──────────────┴──────────────┴──────────────┴───┴──────────────┴──────────────┴──────────────┴─────────────┘"
      ]
     },
     "execution_count": 11,
     "metadata": {},
     "output_type": "execute_result"
    }
   ],
   "source": [
    "df.filter(pl.col(\"passenger_count\").is_not_null(), pl.col(\"tip_amount\") < 1.0)"
   ]
  },
  {
   "cell_type": "code",
   "execution_count": 12,
   "id": "78f329b4-9ef0-406b-a56d-308bac33d627",
   "metadata": {},
   "outputs": [
    {
     "data": {
      "text/html": [
       "<div><style>\n",
       ".dataframe > thead > tr,\n",
       ".dataframe > tbody > tr {\n",
       "  text-align: right;\n",
       "  white-space: pre-wrap;\n",
       "}\n",
       "</style>\n",
       "<small>shape: (635_622, 19)</small><table border=\"1\" class=\"dataframe\"><thead><tr><th>VendorID</th><th>tpep_pickup_datetime</th><th>tpep_dropoff_datetime</th><th>passenger_count</th><th>trip_distance</th><th>RatecodeID</th><th>store_and_fwd_flag</th><th>PULocationID</th><th>DOLocationID</th><th>payment_type</th><th>fare_amount</th><th>extra</th><th>mta_tax</th><th>tip_amount</th><th>tolls_amount</th><th>improvement_surcharge</th><th>total_amount</th><th>congestion_surcharge</th><th>Airport_fee</th></tr><tr><td>i32</td><td>datetime[ns]</td><td>datetime[ns]</td><td>i64</td><td>f64</td><td>i64</td><td>str</td><td>i32</td><td>i32</td><td>i64</td><td>f64</td><td>f64</td><td>f64</td><td>f64</td><td>f64</td><td>f64</td><td>f64</td><td>f64</td><td>f64</td></tr></thead><tbody><tr><td>2</td><td>2024-01-01 00:57:55</td><td>2024-01-01 01:17:43</td><td>1</td><td>1.72</td><td>1</td><td>&quot;N&quot;</td><td>186</td><td>79</td><td>2</td><td>17.7</td><td>1.0</td><td>0.5</td><td>0.0</td><td>0.0</td><td>1.0</td><td>22.7</td><td>2.5</td><td>0.0</td></tr><tr><td>1</td><td>2024-01-01 00:30:40</td><td>2024-01-01 00:58:40</td><td>0</td><td>3.0</td><td>1</td><td>&quot;N&quot;</td><td>246</td><td>231</td><td>2</td><td>25.4</td><td>3.5</td><td>0.5</td><td>0.0</td><td>0.0</td><td>1.0</td><td>30.4</td><td>2.5</td><td>0.0</td></tr><tr><td>2</td><td>2024-01-01 00:26:01</td><td>2024-01-01 00:54:12</td><td>1</td><td>5.44</td><td>1</td><td>&quot;N&quot;</td><td>161</td><td>261</td><td>2</td><td>31.0</td><td>1.0</td><td>0.5</td><td>0.0</td><td>0.0</td><td>1.0</td><td>36.0</td><td>2.5</td><td>0.0</td></tr><tr><td>2</td><td>2024-01-01 00:28:08</td><td>2024-01-01 00:29:16</td><td>1</td><td>0.04</td><td>1</td><td>&quot;N&quot;</td><td>113</td><td>113</td><td>2</td><td>3.0</td><td>1.0</td><td>0.5</td><td>0.0</td><td>0.0</td><td>1.0</td><td>8.0</td><td>2.5</td><td>0.0</td></tr><tr><td>2</td><td>2024-01-01 00:35:22</td><td>2024-01-01 00:41:41</td><td>2</td><td>0.75</td><td>1</td><td>&quot;N&quot;</td><td>107</td><td>137</td><td>1</td><td>7.9</td><td>1.0</td><td>0.5</td><td>0.0</td><td>0.0</td><td>1.0</td><td>12.9</td><td>2.5</td><td>0.0</td></tr><tr><td>&hellip;</td><td>&hellip;</td><td>&hellip;</td><td>&hellip;</td><td>&hellip;</td><td>&hellip;</td><td>&hellip;</td><td>&hellip;</td><td>&hellip;</td><td>&hellip;</td><td>&hellip;</td><td>&hellip;</td><td>&hellip;</td><td>&hellip;</td><td>&hellip;</td><td>&hellip;</td><td>&hellip;</td><td>&hellip;</td><td>&hellip;</td></tr><tr><td>1</td><td>2024-01-31 23:44:29</td><td>2024-01-31 23:56:23</td><td>2</td><td>1.3</td><td>1</td><td>&quot;N&quot;</td><td>68</td><td>246</td><td>2</td><td>10.0</td><td>3.5</td><td>0.5</td><td>0.0</td><td>0.0</td><td>1.0</td><td>15.0</td><td>2.5</td><td>0.0</td></tr><tr><td>1</td><td>2024-01-31 23:31:32</td><td>2024-01-31 23:40:41</td><td>1</td><td>1.6</td><td>1</td><td>&quot;Y&quot;</td><td>234</td><td>48</td><td>1</td><td>10.7</td><td>3.5</td><td>0.5</td><td>0.0</td><td>0.0</td><td>1.0</td><td>15.7</td><td>2.5</td><td>0.0</td></tr><tr><td>2</td><td>2024-01-31 23:25:48</td><td>2024-01-31 23:25:55</td><td>1</td><td>0.0</td><td>2</td><td>&quot;N&quot;</td><td>50</td><td>50</td><td>2</td><td>70.0</td><td>0.0</td><td>0.5</td><td>0.0</td><td>0.0</td><td>1.0</td><td>74.0</td><td>2.5</td><td>0.0</td></tr><tr><td>2</td><td>2024-01-31 23:26:33</td><td>2024-01-31 23:29:26</td><td>1</td><td>0.09</td><td>1</td><td>&quot;N&quot;</td><td>50</td><td>50</td><td>2</td><td>4.4</td><td>1.0</td><td>0.5</td><td>0.0</td><td>0.0</td><td>1.0</td><td>9.4</td><td>2.5</td><td>0.0</td></tr><tr><td>1</td><td>2024-01-31 23:49:46</td><td>2024-01-31 23:53:10</td><td>0</td><td>0.4</td><td>1</td><td>&quot;N&quot;</td><td>142</td><td>163</td><td>2</td><td>5.1</td><td>3.5</td><td>0.5</td><td>0.0</td><td>0.0</td><td>1.0</td><td>10.1</td><td>2.5</td><td>0.0</td></tr></tbody></table></div>"
      ],
      "text/plain": [
       "shape: (635_622, 19)\n",
       "┌──────────┬──────────────┬──────────────┬──────────────┬───┬──────────────┬──────────────┬──────────────┬─────────────┐\n",
       "│ VendorID ┆ tpep_pickup_ ┆ tpep_dropoff ┆ passenger_co ┆ … ┆ improvement_ ┆ total_amount ┆ congestion_s ┆ Airport_fee │\n",
       "│ ---      ┆ datetime     ┆ _datetime    ┆ unt          ┆   ┆ surcharge    ┆ ---          ┆ urcharge     ┆ ---         │\n",
       "│ i32      ┆ ---          ┆ ---          ┆ ---          ┆   ┆ ---          ┆ f64          ┆ ---          ┆ f64         │\n",
       "│          ┆ datetime[ns] ┆ datetime[ns] ┆ i64          ┆   ┆ f64          ┆              ┆ f64          ┆             │\n",
       "╞══════════╪══════════════╪══════════════╪══════════════╪═══╪══════════════╪══════════════╪══════════════╪═════════════╡\n",
       "│ 2        ┆ 2024-01-01   ┆ 2024-01-01   ┆ 1            ┆ … ┆ 1.0          ┆ 22.7         ┆ 2.5          ┆ 0.0         │\n",
       "│          ┆ 00:57:55     ┆ 01:17:43     ┆              ┆   ┆              ┆              ┆              ┆             │\n",
       "│ 1        ┆ 2024-01-01   ┆ 2024-01-01   ┆ 0            ┆ … ┆ 1.0          ┆ 30.4         ┆ 2.5          ┆ 0.0         │\n",
       "│          ┆ 00:30:40     ┆ 00:58:40     ┆              ┆   ┆              ┆              ┆              ┆             │\n",
       "│ 2        ┆ 2024-01-01   ┆ 2024-01-01   ┆ 1            ┆ … ┆ 1.0          ┆ 36.0         ┆ 2.5          ┆ 0.0         │\n",
       "│          ┆ 00:26:01     ┆ 00:54:12     ┆              ┆   ┆              ┆              ┆              ┆             │\n",
       "│ 2        ┆ 2024-01-01   ┆ 2024-01-01   ┆ 1            ┆ … ┆ 1.0          ┆ 8.0          ┆ 2.5          ┆ 0.0         │\n",
       "│          ┆ 00:28:08     ┆ 00:29:16     ┆              ┆   ┆              ┆              ┆              ┆             │\n",
       "│ 2        ┆ 2024-01-01   ┆ 2024-01-01   ┆ 2            ┆ … ┆ 1.0          ┆ 12.9         ┆ 2.5          ┆ 0.0         │\n",
       "│          ┆ 00:35:22     ┆ 00:41:41     ┆              ┆   ┆              ┆              ┆              ┆             │\n",
       "│ …        ┆ …            ┆ …            ┆ …            ┆ … ┆ …            ┆ …            ┆ …            ┆ …           │\n",
       "│ 1        ┆ 2024-01-31   ┆ 2024-01-31   ┆ 2            ┆ … ┆ 1.0          ┆ 15.0         ┆ 2.5          ┆ 0.0         │\n",
       "│          ┆ 23:44:29     ┆ 23:56:23     ┆              ┆   ┆              ┆              ┆              ┆             │\n",
       "│ 1        ┆ 2024-01-31   ┆ 2024-01-31   ┆ 1            ┆ … ┆ 1.0          ┆ 15.7         ┆ 2.5          ┆ 0.0         │\n",
       "│          ┆ 23:31:32     ┆ 23:40:41     ┆              ┆   ┆              ┆              ┆              ┆             │\n",
       "│ 2        ┆ 2024-01-31   ┆ 2024-01-31   ┆ 1            ┆ … ┆ 1.0          ┆ 74.0         ┆ 2.5          ┆ 0.0         │\n",
       "│          ┆ 23:25:48     ┆ 23:25:55     ┆              ┆   ┆              ┆              ┆              ┆             │\n",
       "│ 2        ┆ 2024-01-31   ┆ 2024-01-31   ┆ 1            ┆ … ┆ 1.0          ┆ 9.4          ┆ 2.5          ┆ 0.0         │\n",
       "│          ┆ 23:26:33     ┆ 23:29:26     ┆              ┆   ┆              ┆              ┆              ┆             │\n",
       "│ 1        ┆ 2024-01-31   ┆ 2024-01-31   ┆ 0            ┆ … ┆ 1.0          ┆ 10.1         ┆ 2.5          ┆ 0.0         │\n",
       "│          ┆ 23:49:46     ┆ 23:53:10     ┆              ┆   ┆              ┆              ┆              ┆             │\n",
       "└──────────┴──────────────┴──────────────┴──────────────┴───┴──────────────┴──────────────┴──────────────┴─────────────┘"
      ]
     },
     "execution_count": 12,
     "metadata": {},
     "output_type": "execute_result"
    }
   ],
   "source": [
    "# alternative syntax with &\n",
    "df.filter((pl.col(\"passenger_count\").is_not_null()) & (pl.col(\"tip_amount\") < 1.0))"
   ]
  },
  {
   "cell_type": "code",
   "execution_count": 13,
   "id": "6fbf9466-17de-4bda-bfb9-314b002a2ae6",
   "metadata": {
    "scrolled": true
   },
   "outputs": [
    {
     "data": {
      "text/html": [
       "<div><style>\n",
       ".dataframe > thead > tr,\n",
       ".dataframe > tbody > tr {\n",
       "  text-align: right;\n",
       "  white-space: pre-wrap;\n",
       "}\n",
       "</style>\n",
       "<small>shape: (2_916_745, 19)</small><table border=\"1\" class=\"dataframe\"><thead><tr><th>VendorID</th><th>tpep_pickup_datetime</th><th>tpep_dropoff_datetime</th><th>passenger_count</th><th>trip_distance</th><th>RatecodeID</th><th>store_and_fwd_flag</th><th>PULocationID</th><th>DOLocationID</th><th>payment_type</th><th>fare_amount</th><th>extra</th><th>mta_tax</th><th>tip_amount</th><th>tolls_amount</th><th>improvement_surcharge</th><th>total_amount</th><th>congestion_surcharge</th><th>Airport_fee</th></tr><tr><td>i32</td><td>datetime[ns]</td><td>datetime[ns]</td><td>i64</td><td>f64</td><td>i64</td><td>str</td><td>i32</td><td>i32</td><td>i64</td><td>f64</td><td>f64</td><td>f64</td><td>f64</td><td>f64</td><td>f64</td><td>f64</td><td>f64</td><td>f64</td></tr></thead><tbody><tr><td>2</td><td>2024-01-01 00:57:55</td><td>2024-01-01 01:17:43</td><td>1</td><td>1.72</td><td>1</td><td>&quot;N&quot;</td><td>186</td><td>79</td><td>2</td><td>17.7</td><td>1.0</td><td>0.5</td><td>0.0</td><td>0.0</td><td>1.0</td><td>22.7</td><td>2.5</td><td>0.0</td></tr><tr><td>1</td><td>2024-01-01 00:03:00</td><td>2024-01-01 00:09:36</td><td>1</td><td>1.8</td><td>1</td><td>&quot;N&quot;</td><td>140</td><td>236</td><td>1</td><td>10.0</td><td>3.5</td><td>0.5</td><td>3.75</td><td>0.0</td><td>1.0</td><td>18.75</td><td>2.5</td><td>0.0</td></tr><tr><td>1</td><td>2024-01-01 00:17:06</td><td>2024-01-01 00:35:01</td><td>1</td><td>4.7</td><td>1</td><td>&quot;N&quot;</td><td>236</td><td>79</td><td>1</td><td>23.3</td><td>3.5</td><td>0.5</td><td>3.0</td><td>0.0</td><td>1.0</td><td>31.3</td><td>2.5</td><td>0.0</td></tr><tr><td>1</td><td>2024-01-01 00:36:38</td><td>2024-01-01 00:44:56</td><td>1</td><td>1.4</td><td>1</td><td>&quot;N&quot;</td><td>79</td><td>211</td><td>1</td><td>10.0</td><td>3.5</td><td>0.5</td><td>2.0</td><td>0.0</td><td>1.0</td><td>17.0</td><td>2.5</td><td>0.0</td></tr><tr><td>1</td><td>2024-01-01 00:46:51</td><td>2024-01-01 00:52:57</td><td>1</td><td>0.8</td><td>1</td><td>&quot;N&quot;</td><td>211</td><td>148</td><td>1</td><td>7.9</td><td>3.5</td><td>0.5</td><td>3.2</td><td>0.0</td><td>1.0</td><td>16.1</td><td>2.5</td><td>0.0</td></tr><tr><td>&hellip;</td><td>&hellip;</td><td>&hellip;</td><td>&hellip;</td><td>&hellip;</td><td>&hellip;</td><td>&hellip;</td><td>&hellip;</td><td>&hellip;</td><td>&hellip;</td><td>&hellip;</td><td>&hellip;</td><td>&hellip;</td><td>&hellip;</td><td>&hellip;</td><td>&hellip;</td><td>&hellip;</td><td>&hellip;</td><td>&hellip;</td></tr><tr><td>1</td><td>2024-01-31 23:33:12</td><td>2024-01-31 23:48:42</td><td>null</td><td>2.6</td><td>null</td><td>null</td><td>161</td><td>249</td><td>0</td><td>15.01</td><td>0.0</td><td>0.5</td><td>0.0</td><td>0.0</td><td>1.0</td><td>19.01</td><td>null</td><td>null</td></tr><tr><td>1</td><td>2024-01-31 23:22:09</td><td>2024-01-31 23:33:41</td><td>null</td><td>2.3</td><td>null</td><td>null</td><td>211</td><td>170</td><td>0</td><td>12.1</td><td>1.0</td><td>0.5</td><td>0.0</td><td>0.0</td><td>1.0</td><td>17.1</td><td>null</td><td>null</td></tr><tr><td>2</td><td>2024-01-31 23:46:39</td><td>2024-01-31 23:57:31</td><td>null</td><td>3.27</td><td>null</td><td>null</td><td>161</td><td>24</td><td>0</td><td>15.73</td><td>0.0</td><td>0.5</td><td>0.0</td><td>0.0</td><td>1.0</td><td>19.73</td><td>null</td><td>null</td></tr><tr><td>1</td><td>2024-01-31 23:01:28</td><td>2024-01-31 23:20:46</td><td>null</td><td>4.0</td><td>null</td><td>null</td><td>255</td><td>90</td><td>0</td><td>21.91</td><td>0.0</td><td>0.5</td><td>0.0</td><td>0.0</td><td>1.0</td><td>25.91</td><td>null</td><td>null</td></tr><tr><td>2</td><td>2024-01-31 23:19:00</td><td>2024-01-31 23:38:00</td><td>null</td><td>3.33</td><td>null</td><td>null</td><td>211</td><td>25</td><td>0</td><td>19.97</td><td>0.0</td><td>0.5</td><td>0.0</td><td>0.0</td><td>1.0</td><td>23.97</td><td>null</td><td>null</td></tr></tbody></table></div>"
      ],
      "text/plain": [
       "shape: (2_916_745, 19)\n",
       "┌──────────┬──────────────┬──────────────┬──────────────┬───┬──────────────┬──────────────┬──────────────┬─────────────┐\n",
       "│ VendorID ┆ tpep_pickup_ ┆ tpep_dropoff ┆ passenger_co ┆ … ┆ improvement_ ┆ total_amount ┆ congestion_s ┆ Airport_fee │\n",
       "│ ---      ┆ datetime     ┆ _datetime    ┆ unt          ┆   ┆ surcharge    ┆ ---          ┆ urcharge     ┆ ---         │\n",
       "│ i32      ┆ ---          ┆ ---          ┆ ---          ┆   ┆ ---          ┆ f64          ┆ ---          ┆ f64         │\n",
       "│          ┆ datetime[ns] ┆ datetime[ns] ┆ i64          ┆   ┆ f64          ┆              ┆ f64          ┆             │\n",
       "╞══════════╪══════════════╪══════════════╪══════════════╪═══╪══════════════╪══════════════╪══════════════╪═════════════╡\n",
       "│ 2        ┆ 2024-01-01   ┆ 2024-01-01   ┆ 1            ┆ … ┆ 1.0          ┆ 22.7         ┆ 2.5          ┆ 0.0         │\n",
       "│          ┆ 00:57:55     ┆ 01:17:43     ┆              ┆   ┆              ┆              ┆              ┆             │\n",
       "│ 1        ┆ 2024-01-01   ┆ 2024-01-01   ┆ 1            ┆ … ┆ 1.0          ┆ 18.75        ┆ 2.5          ┆ 0.0         │\n",
       "│          ┆ 00:03:00     ┆ 00:09:36     ┆              ┆   ┆              ┆              ┆              ┆             │\n",
       "│ 1        ┆ 2024-01-01   ┆ 2024-01-01   ┆ 1            ┆ … ┆ 1.0          ┆ 31.3         ┆ 2.5          ┆ 0.0         │\n",
       "│          ┆ 00:17:06     ┆ 00:35:01     ┆              ┆   ┆              ┆              ┆              ┆             │\n",
       "│ 1        ┆ 2024-01-01   ┆ 2024-01-01   ┆ 1            ┆ … ┆ 1.0          ┆ 17.0         ┆ 2.5          ┆ 0.0         │\n",
       "│          ┆ 00:36:38     ┆ 00:44:56     ┆              ┆   ┆              ┆              ┆              ┆             │\n",
       "│ 1        ┆ 2024-01-01   ┆ 2024-01-01   ┆ 1            ┆ … ┆ 1.0          ┆ 16.1         ┆ 2.5          ┆ 0.0         │\n",
       "│          ┆ 00:46:51     ┆ 00:52:57     ┆              ┆   ┆              ┆              ┆              ┆             │\n",
       "│ …        ┆ …            ┆ …            ┆ …            ┆ … ┆ …            ┆ …            ┆ …            ┆ …           │\n",
       "│ 1        ┆ 2024-01-31   ┆ 2024-01-31   ┆ null         ┆ … ┆ 1.0          ┆ 19.01        ┆ null         ┆ null        │\n",
       "│          ┆ 23:33:12     ┆ 23:48:42     ┆              ┆   ┆              ┆              ┆              ┆             │\n",
       "│ 1        ┆ 2024-01-31   ┆ 2024-01-31   ┆ null         ┆ … ┆ 1.0          ┆ 17.1         ┆ null         ┆ null        │\n",
       "│          ┆ 23:22:09     ┆ 23:33:41     ┆              ┆   ┆              ┆              ┆              ┆             │\n",
       "│ 2        ┆ 2024-01-31   ┆ 2024-01-31   ┆ null         ┆ … ┆ 1.0          ┆ 19.73        ┆ null         ┆ null        │\n",
       "│          ┆ 23:46:39     ┆ 23:57:31     ┆              ┆   ┆              ┆              ┆              ┆             │\n",
       "│ 1        ┆ 2024-01-31   ┆ 2024-01-31   ┆ null         ┆ … ┆ 1.0          ┆ 25.91        ┆ null         ┆ null        │\n",
       "│          ┆ 23:01:28     ┆ 23:20:46     ┆              ┆   ┆              ┆              ┆              ┆             │\n",
       "│ 2        ┆ 2024-01-31   ┆ 2024-01-31   ┆ null         ┆ … ┆ 1.0          ┆ 23.97        ┆ null         ┆ null        │\n",
       "│          ┆ 23:19:00     ┆ 23:38:00     ┆              ┆   ┆              ┆              ┆              ┆             │\n",
       "└──────────┴──────────────┴──────────────┴──────────────┴───┴──────────────┴──────────────┴──────────────┴─────────────┘"
      ]
     },
     "execution_count": 13,
     "metadata": {},
     "output_type": "execute_result"
    }
   ],
   "source": [
    "df.filter((pl.col(\"passenger_count\").is_not_null()) | (pl.col(\"tip_amount\") < 1.0))"
   ]
  },
  {
   "cell_type": "code",
   "execution_count": 14,
   "id": "f3f03e20-20e8-49df-89f5-1db13c4cd723",
   "metadata": {},
   "outputs": [
    {
     "data": {
      "text/html": [
       "<div><style>\n",
       ".dataframe > thead > tr,\n",
       ".dataframe > tbody > tr {\n",
       "  text-align: right;\n",
       "  white-space: pre-wrap;\n",
       "}\n",
       "</style>\n",
       "<small>shape: (2_964_624, 2)</small><table border=\"1\" class=\"dataframe\"><thead><tr><th>tpep_pickup_datetime</th><th>tpep_dropoff_datetime</th></tr><tr><td>datetime[ns]</td><td>datetime[ns]</td></tr></thead><tbody><tr><td>2024-01-01 00:57:55</td><td>2024-01-01 01:17:43</td></tr><tr><td>2024-01-01 00:03:00</td><td>2024-01-01 00:09:36</td></tr><tr><td>2024-01-01 00:17:06</td><td>2024-01-01 00:35:01</td></tr><tr><td>2024-01-01 00:36:38</td><td>2024-01-01 00:44:56</td></tr><tr><td>2024-01-01 00:46:51</td><td>2024-01-01 00:52:57</td></tr><tr><td>&hellip;</td><td>&hellip;</td></tr><tr><td>2024-01-31 23:45:59</td><td>2024-01-31 23:54:36</td></tr><tr><td>2024-01-31 23:13:07</td><td>2024-01-31 23:27:52</td></tr><tr><td>2024-01-31 23:19:00</td><td>2024-01-31 23:38:00</td></tr><tr><td>2024-01-31 23:07:23</td><td>2024-01-31 23:25:14</td></tr><tr><td>2024-01-31 23:58:25</td><td>2024-02-01 00:13:30</td></tr></tbody></table></div>"
      ],
      "text/plain": [
       "shape: (2_964_624, 2)\n",
       "┌──────────────────────┬───────────────────────┐\n",
       "│ tpep_pickup_datetime ┆ tpep_dropoff_datetime │\n",
       "│ ---                  ┆ ---                   │\n",
       "│ datetime[ns]         ┆ datetime[ns]          │\n",
       "╞══════════════════════╪═══════════════════════╡\n",
       "│ 2024-01-01 00:57:55  ┆ 2024-01-01 01:17:43   │\n",
       "│ 2024-01-01 00:03:00  ┆ 2024-01-01 00:09:36   │\n",
       "│ 2024-01-01 00:17:06  ┆ 2024-01-01 00:35:01   │\n",
       "│ 2024-01-01 00:36:38  ┆ 2024-01-01 00:44:56   │\n",
       "│ 2024-01-01 00:46:51  ┆ 2024-01-01 00:52:57   │\n",
       "│ …                    ┆ …                     │\n",
       "│ 2024-01-31 23:45:59  ┆ 2024-01-31 23:54:36   │\n",
       "│ 2024-01-31 23:13:07  ┆ 2024-01-31 23:27:52   │\n",
       "│ 2024-01-31 23:19:00  ┆ 2024-01-31 23:38:00   │\n",
       "│ 2024-01-31 23:07:23  ┆ 2024-01-31 23:25:14   │\n",
       "│ 2024-01-31 23:58:25  ┆ 2024-02-01 00:13:30   │\n",
       "└──────────────────────┴───────────────────────┘"
      ]
     },
     "execution_count": 14,
     "metadata": {},
     "output_type": "execute_result"
    }
   ],
   "source": [
    "# similarly for selecting many columns, you can also use strings directly\n",
    "df.select([\"tpep_pickup_datetime\", \"tpep_dropoff_datetime\"])"
   ]
  },
  {
   "cell_type": "markdown",
   "id": "369f74fc-b413-4f51-91ec-aebf9acf9603",
   "metadata": {},
   "source": [
    "There is also a shortcut syntax for selecting columns with `[]`, like in Pandas. It's quite limited though, you can also read the data this way, and not e.g. create new columns or assign values. However, it's useful for simple analytics."
   ]
  },
  {
   "cell_type": "code",
   "execution_count": 15,
   "id": "c6ac5ad9-db7d-4b80-8676-032db3a65e1a",
   "metadata": {},
   "outputs": [
    {
     "data": {
      "text/plain": [
       "3.33587001589409"
      ]
     },
     "execution_count": 15,
     "metadata": {},
     "output_type": "execute_result"
    }
   ],
   "source": [
    "df[\"tip_amount\"].mean()"
   ]
  },
  {
   "cell_type": "code",
   "execution_count": 16,
   "id": "102b4ba6-48a3-4f6c-bba6-d74ff52f11f9",
   "metadata": {},
   "outputs": [
    {
     "data": {
      "text/plain": [
       "3782748"
      ]
     },
     "execution_count": 16,
     "metadata": {},
     "output_type": "execute_result"
    }
   ],
   "source": [
    "# .mean(), .sum() etc. ignore NULL values by default, like in Pandas\n",
    "df[\"passenger_count\"].sum()"
   ]
  },
  {
   "cell_type": "code",
   "execution_count": 17,
   "id": "5efdb38b-ba4c-4d76-9fda-336526b1d9c0",
   "metadata": {},
   "outputs": [
    {
     "data": {
      "text/plain": [
       "19.15"
      ]
     },
     "execution_count": 17,
     "metadata": {},
     "output_type": "execute_result"
    }
   ],
   "source": [
    "# you can combine both syntax styles\n",
    "df.filter(pl.col(\"Airport_fee\") == 0)[\"total_amount\"].median()"
   ]
  },
  {
   "cell_type": "markdown",
   "id": "854f1a8f-ecc3-4028-9187-b344e57a07e1",
   "metadata": {},
   "source": [
    "To create new columns or overwrite values of existing ones, use `.with_columns()`. You can rename them either by using a keyword argument, or by using `.alias()`. You can also rename columns with `.rename()`. If you don't need any old column, just create a value and use it further, you can just use `.select()` and create column inside.\n",
    "\n",
    "For chaining many operations, it's very useful to wrap the entire pipelines in parentheses `()`. This is a proper multiline Python syntax for making many method calls one after another, and a great pattern overall. It avoids making ugly backslash `\\` after every line."
   ]
  },
  {
   "cell_type": "code",
   "execution_count": 18,
   "id": "62b043bb-bbd3-42a6-a895-320570b37632",
   "metadata": {
    "scrolled": true
   },
   "outputs": [
    {
     "data": {
      "text/html": [
       "<div><style>\n",
       ".dataframe > thead > tr,\n",
       ".dataframe > tbody > tr {\n",
       "  text-align: right;\n",
       "  white-space: pre-wrap;\n",
       "}\n",
       "</style>\n",
       "<small>shape: (2_964_624, 19)</small><table border=\"1\" class=\"dataframe\"><thead><tr><th>VendorID</th><th>tpep_pickup_datetime</th><th>tpep_dropoff_datetime</th><th>passenger_count</th><th>trip_distance</th><th>RatecodeID</th><th>store_and_fwd_flag</th><th>PULocationID</th><th>DOLocationID</th><th>payment_type</th><th>fare_amount</th><th>extra</th><th>mta_tax</th><th>tip_amount</th><th>tolls_amount</th><th>improvement_surcharge</th><th>total_amount</th><th>congestion_surcharge</th><th>airport_fee</th></tr><tr><td>i32</td><td>datetime[ns]</td><td>datetime[ns]</td><td>i64</td><td>f64</td><td>i64</td><td>str</td><td>i32</td><td>i32</td><td>i64</td><td>f64</td><td>f64</td><td>f64</td><td>f64</td><td>f64</td><td>f64</td><td>f64</td><td>f64</td><td>f64</td></tr></thead><tbody><tr><td>2</td><td>2024-01-01 00:57:55</td><td>2024-01-01 01:17:43</td><td>1</td><td>1.72</td><td>1</td><td>&quot;N&quot;</td><td>186</td><td>79</td><td>2</td><td>17.7</td><td>1.0</td><td>0.5</td><td>0.0</td><td>0.0</td><td>1.0</td><td>22.7</td><td>2.5</td><td>0.0</td></tr><tr><td>1</td><td>2024-01-01 00:03:00</td><td>2024-01-01 00:09:36</td><td>1</td><td>1.8</td><td>1</td><td>&quot;N&quot;</td><td>140</td><td>236</td><td>1</td><td>10.0</td><td>3.5</td><td>0.5</td><td>3.75</td><td>0.0</td><td>1.0</td><td>18.75</td><td>2.5</td><td>0.0</td></tr><tr><td>1</td><td>2024-01-01 00:17:06</td><td>2024-01-01 00:35:01</td><td>1</td><td>4.7</td><td>1</td><td>&quot;N&quot;</td><td>236</td><td>79</td><td>1</td><td>23.3</td><td>3.5</td><td>0.5</td><td>3.0</td><td>0.0</td><td>1.0</td><td>31.3</td><td>2.5</td><td>0.0</td></tr><tr><td>1</td><td>2024-01-01 00:36:38</td><td>2024-01-01 00:44:56</td><td>1</td><td>1.4</td><td>1</td><td>&quot;N&quot;</td><td>79</td><td>211</td><td>1</td><td>10.0</td><td>3.5</td><td>0.5</td><td>2.0</td><td>0.0</td><td>1.0</td><td>17.0</td><td>2.5</td><td>0.0</td></tr><tr><td>1</td><td>2024-01-01 00:46:51</td><td>2024-01-01 00:52:57</td><td>1</td><td>0.8</td><td>1</td><td>&quot;N&quot;</td><td>211</td><td>148</td><td>1</td><td>7.9</td><td>3.5</td><td>0.5</td><td>3.2</td><td>0.0</td><td>1.0</td><td>16.1</td><td>2.5</td><td>0.0</td></tr><tr><td>&hellip;</td><td>&hellip;</td><td>&hellip;</td><td>&hellip;</td><td>&hellip;</td><td>&hellip;</td><td>&hellip;</td><td>&hellip;</td><td>&hellip;</td><td>&hellip;</td><td>&hellip;</td><td>&hellip;</td><td>&hellip;</td><td>&hellip;</td><td>&hellip;</td><td>&hellip;</td><td>&hellip;</td><td>&hellip;</td><td>&hellip;</td></tr><tr><td>2</td><td>2024-01-31 23:45:59</td><td>2024-01-31 23:54:36</td><td>null</td><td>3.18</td><td>null</td><td>null</td><td>107</td><td>263</td><td>0</td><td>15.77</td><td>0.0</td><td>0.5</td><td>2.0</td><td>0.0</td><td>1.0</td><td>21.77</td><td>null</td><td>null</td></tr><tr><td>1</td><td>2024-01-31 23:13:07</td><td>2024-01-31 23:27:52</td><td>null</td><td>4.0</td><td>null</td><td>null</td><td>114</td><td>236</td><td>0</td><td>18.4</td><td>1.0</td><td>0.5</td><td>2.34</td><td>0.0</td><td>1.0</td><td>25.74</td><td>null</td><td>null</td></tr><tr><td>2</td><td>2024-01-31 23:19:00</td><td>2024-01-31 23:38:00</td><td>null</td><td>3.33</td><td>null</td><td>null</td><td>211</td><td>25</td><td>0</td><td>19.97</td><td>0.0</td><td>0.5</td><td>0.0</td><td>0.0</td><td>1.0</td><td>23.97</td><td>null</td><td>null</td></tr><tr><td>2</td><td>2024-01-31 23:07:23</td><td>2024-01-31 23:25:14</td><td>null</td><td>3.06</td><td>null</td><td>null</td><td>107</td><td>13</td><td>0</td><td>23.88</td><td>0.0</td><td>0.5</td><td>5.58</td><td>0.0</td><td>1.0</td><td>33.46</td><td>null</td><td>null</td></tr><tr><td>1</td><td>2024-01-31 23:58:25</td><td>2024-02-01 00:13:30</td><td>null</td><td>8.1</td><td>null</td><td>null</td><td>138</td><td>75</td><td>0</td><td>32.4</td><td>7.75</td><td>0.5</td><td>7.29</td><td>6.94</td><td>1.0</td><td>55.88</td><td>null</td><td>null</td></tr></tbody></table></div>"
      ],
      "text/plain": [
       "shape: (2_964_624, 19)\n",
       "┌──────────┬──────────────┬──────────────┬──────────────┬───┬──────────────┬──────────────┬──────────────┬─────────────┐\n",
       "│ VendorID ┆ tpep_pickup_ ┆ tpep_dropoff ┆ passenger_co ┆ … ┆ improvement_ ┆ total_amount ┆ congestion_s ┆ airport_fee │\n",
       "│ ---      ┆ datetime     ┆ _datetime    ┆ unt          ┆   ┆ surcharge    ┆ ---          ┆ urcharge     ┆ ---         │\n",
       "│ i32      ┆ ---          ┆ ---          ┆ ---          ┆   ┆ ---          ┆ f64          ┆ ---          ┆ f64         │\n",
       "│          ┆ datetime[ns] ┆ datetime[ns] ┆ i64          ┆   ┆ f64          ┆              ┆ f64          ┆             │\n",
       "╞══════════╪══════════════╪══════════════╪══════════════╪═══╪══════════════╪══════════════╪══════════════╪═════════════╡\n",
       "│ 2        ┆ 2024-01-01   ┆ 2024-01-01   ┆ 1            ┆ … ┆ 1.0          ┆ 22.7         ┆ 2.5          ┆ 0.0         │\n",
       "│          ┆ 00:57:55     ┆ 01:17:43     ┆              ┆   ┆              ┆              ┆              ┆             │\n",
       "│ 1        ┆ 2024-01-01   ┆ 2024-01-01   ┆ 1            ┆ … ┆ 1.0          ┆ 18.75        ┆ 2.5          ┆ 0.0         │\n",
       "│          ┆ 00:03:00     ┆ 00:09:36     ┆              ┆   ┆              ┆              ┆              ┆             │\n",
       "│ 1        ┆ 2024-01-01   ┆ 2024-01-01   ┆ 1            ┆ … ┆ 1.0          ┆ 31.3         ┆ 2.5          ┆ 0.0         │\n",
       "│          ┆ 00:17:06     ┆ 00:35:01     ┆              ┆   ┆              ┆              ┆              ┆             │\n",
       "│ 1        ┆ 2024-01-01   ┆ 2024-01-01   ┆ 1            ┆ … ┆ 1.0          ┆ 17.0         ┆ 2.5          ┆ 0.0         │\n",
       "│          ┆ 00:36:38     ┆ 00:44:56     ┆              ┆   ┆              ┆              ┆              ┆             │\n",
       "│ 1        ┆ 2024-01-01   ┆ 2024-01-01   ┆ 1            ┆ … ┆ 1.0          ┆ 16.1         ┆ 2.5          ┆ 0.0         │\n",
       "│          ┆ 00:46:51     ┆ 00:52:57     ┆              ┆   ┆              ┆              ┆              ┆             │\n",
       "│ …        ┆ …            ┆ …            ┆ …            ┆ … ┆ …            ┆ …            ┆ …            ┆ …           │\n",
       "│ 2        ┆ 2024-01-31   ┆ 2024-01-31   ┆ null         ┆ … ┆ 1.0          ┆ 21.77        ┆ null         ┆ null        │\n",
       "│          ┆ 23:45:59     ┆ 23:54:36     ┆              ┆   ┆              ┆              ┆              ┆             │\n",
       "│ 1        ┆ 2024-01-31   ┆ 2024-01-31   ┆ null         ┆ … ┆ 1.0          ┆ 25.74        ┆ null         ┆ null        │\n",
       "│          ┆ 23:13:07     ┆ 23:27:52     ┆              ┆   ┆              ┆              ┆              ┆             │\n",
       "│ 2        ┆ 2024-01-31   ┆ 2024-01-31   ┆ null         ┆ … ┆ 1.0          ┆ 23.97        ┆ null         ┆ null        │\n",
       "│          ┆ 23:19:00     ┆ 23:38:00     ┆              ┆   ┆              ┆              ┆              ┆             │\n",
       "│ 2        ┆ 2024-01-31   ┆ 2024-01-31   ┆ null         ┆ … ┆ 1.0          ┆ 33.46        ┆ null         ┆ null        │\n",
       "│          ┆ 23:07:23     ┆ 23:25:14     ┆              ┆   ┆              ┆              ┆              ┆             │\n",
       "│ 1        ┆ 2024-01-31   ┆ 2024-02-01   ┆ null         ┆ … ┆ 1.0          ┆ 55.88        ┆ null         ┆ null        │\n",
       "│          ┆ 23:58:25     ┆ 00:13:30     ┆              ┆   ┆              ┆              ┆              ┆             │\n",
       "└──────────┴──────────────┴──────────────┴──────────────┴───┴──────────────┴──────────────┴──────────────┴─────────────┘"
      ]
     },
     "execution_count": 18,
     "metadata": {},
     "output_type": "execute_result"
    }
   ],
   "source": [
    "# set strict=False so you can run this cell twice without errors\n",
    "df = df.rename({\"Airport_fee\": \"airport_fee\"}, strict=False)\n",
    "df"
   ]
  },
  {
   "cell_type": "code",
   "execution_count": 19,
   "id": "97aa8480-b725-4bb0-a437-82fc2b2392b8",
   "metadata": {},
   "outputs": [
    {
     "data": {
      "text/html": [
       "<div><style>\n",
       ".dataframe > thead > tr,\n",
       ".dataframe > tbody > tr {\n",
       "  text-align: right;\n",
       "  white-space: pre-wrap;\n",
       "}\n",
       "</style>\n",
       "<small>shape: (1, 1)</small><table border=\"1\" class=\"dataframe\"><thead><tr><th>trip_time</th></tr><tr><td>duration[ns]</td></tr></thead><tbody><tr><td>15m 36s 777037155ns</td></tr></tbody></table></div>"
      ],
      "text/plain": [
       "shape: (1, 1)\n",
       "┌─────────────────────┐\n",
       "│ trip_time           │\n",
       "│ ---                 │\n",
       "│ duration[ns]        │\n",
       "╞═════════════════════╡\n",
       "│ 15m 36s 777037155ns │\n",
       "└─────────────────────┘"
      ]
     },
     "execution_count": 19,
     "metadata": {},
     "output_type": "execute_result"
    }
   ],
   "source": [
    "# what is the average trip time?\n",
    "(\n",
    "    df.with_columns(\n",
    "        (pl.col(\"tpep_dropoff_datetime\") - pl.col(\"tpep_pickup_datetime\")).alias(\n",
    "            \"trip_time\"\n",
    "        )\n",
    "    )\n",
    "    .select(\"trip_time\")\n",
    "    .mean()\n",
    ")"
   ]
  },
  {
   "cell_type": "code",
   "execution_count": 20,
   "id": "3c7bd6e6-dc71-4fdb-bf26-eb98c8efd4a0",
   "metadata": {},
   "outputs": [
    {
     "data": {
      "text/html": [
       "<div><style>\n",
       ".dataframe > thead > tr,\n",
       ".dataframe > tbody > tr {\n",
       "  text-align: right;\n",
       "  white-space: pre-wrap;\n",
       "}\n",
       "</style>\n",
       "<small>shape: (1, 1)</small><table border=\"1\" class=\"dataframe\"><thead><tr><th>trip_time</th></tr><tr><td>duration[ns]</td></tr></thead><tbody><tr><td>15m 36s 777037155ns</td></tr></tbody></table></div>"
      ],
      "text/plain": [
       "shape: (1, 1)\n",
       "┌─────────────────────┐\n",
       "│ trip_time           │\n",
       "│ ---                 │\n",
       "│ duration[ns]        │\n",
       "╞═════════════════════╡\n",
       "│ 15m 36s 777037155ns │\n",
       "└─────────────────────┘"
      ]
     },
     "execution_count": 20,
     "metadata": {},
     "output_type": "execute_result"
    }
   ],
   "source": [
    "# another way of aliasing columns are keyword arguments\n",
    "(\n",
    "    df.with_columns(\n",
    "        trip_time=(pl.col(\"tpep_dropoff_datetime\") - pl.col(\"tpep_pickup_datetime\"))\n",
    "    )\n",
    "    .select(\"trip_time\")\n",
    "    .mean()\n",
    ")"
   ]
  },
  {
   "cell_type": "code",
   "execution_count": 21,
   "id": "de1c2500-de8d-424f-8d53-a4050493c9ff",
   "metadata": {},
   "outputs": [
    {
     "data": {
      "text/html": [
       "<div><style>\n",
       ".dataframe > thead > tr,\n",
       ".dataframe > tbody > tr {\n",
       "  text-align: right;\n",
       "  white-space: pre-wrap;\n",
       "}\n",
       "</style>\n",
       "<small>shape: (1, 1)</small><table border=\"1\" class=\"dataframe\"><thead><tr><th>trip_time</th></tr><tr><td>duration[ns]</td></tr></thead><tbody><tr><td>11m 19s</td></tr></tbody></table></div>"
      ],
      "text/plain": [
       "shape: (1, 1)\n",
       "┌──────────────┐\n",
       "│ trip_time    │\n",
       "│ ---          │\n",
       "│ duration[ns] │\n",
       "╞══════════════╡\n",
       "│ 11m 19s      │\n",
       "└──────────────┘"
      ]
     },
     "execution_count": 21,
     "metadata": {},
     "output_type": "execute_result"
    }
   ],
   "source": [
    "# you can build any pipelines, data filtering etc. this way\n",
    "(\n",
    "    df.filter(pl.col(\"passenger_count\").is_not_null(), pl.col(\"tip_amount\") < 1.0)\n",
    "    .select(\n",
    "        (pl.col(\"tpep_dropoff_datetime\") - pl.col(\"tpep_pickup_datetime\")).alias(\n",
    "            \"trip_time\"\n",
    "        )\n",
    "    )\n",
    "    .median()\n",
    ")"
   ]
  },
  {
   "cell_type": "markdown",
   "id": "b7216b78-9afa-4512-ad40-a5d46f3a23ce",
   "metadata": {},
   "source": [
    "Since Polars expressions are objects, they can be created beforehand. They are executed lazily, only when you call appropriate methods on the actual DataFrame. This is very useful for building more complex pipelines, as it helps avoid code repetition with common operations and increases readability with variable names. You can also write regular Python functions, objects, and tests working on Polars expressions."
   ]
  },
  {
   "cell_type": "code",
   "execution_count": 22,
   "id": "90d97fee-4ac7-4fbd-b386-c637f0d1a067",
   "metadata": {},
   "outputs": [
    {
     "data": {
      "text/html": [
       "<div><style>\n",
       ".dataframe > thead > tr,\n",
       ".dataframe > tbody > tr {\n",
       "  text-align: right;\n",
       "  white-space: pre-wrap;\n",
       "}\n",
       "</style>\n",
       "<small>shape: (1, 1)</small><table border=\"1\" class=\"dataframe\"><thead><tr><th>trip_time</th></tr><tr><td>duration[ns]</td></tr></thead><tbody><tr><td>11m 19s</td></tr></tbody></table></div>"
      ],
      "text/plain": [
       "shape: (1, 1)\n",
       "┌──────────────┐\n",
       "│ trip_time    │\n",
       "│ ---          │\n",
       "│ duration[ns] │\n",
       "╞══════════════╡\n",
       "│ 11m 19s      │\n",
       "└──────────────┘"
      ]
     },
     "execution_count": 22,
     "metadata": {},
     "output_type": "execute_result"
    }
   ],
   "source": [
    "# same pipeline as above, but with pre-built expressions\n",
    "trip_time = (pl.col(\"tpep_dropoff_datetime\") - pl.col(\"tpep_pickup_datetime\")).alias(\n",
    "    \"trip_time\"\n",
    ")\n",
    "non_tipping_passengers = pl.col(\"passenger_count\").is_not_null() & (\n",
    "    pl.col(\"tip_amount\") < 1.0\n",
    ")\n",
    "\n",
    "(df.filter(non_tipping_passengers).select(trip_time).median())"
   ]
  },
  {
   "cell_type": "markdown",
   "id": "3324f625-6bec-4b14-a4c0-a2d62f699841",
   "metadata": {},
   "source": [
    "Results of Polars data processing can be easily transformed to Pandas DataFrame for integration with frameworks that don't support Polars directly. This uses `.to_pandas()` method."
   ]
  },
  {
   "cell_type": "code",
   "execution_count": 23,
   "id": "6bb729a8-d395-4c1b-b829-a687a069b7a1",
   "metadata": {},
   "outputs": [
    {
     "data": {
      "text/html": [
       "<div>\n",
       "<style scoped>\n",
       "    .dataframe tbody tr th:only-of-type {\n",
       "        vertical-align: middle;\n",
       "    }\n",
       "\n",
       "    .dataframe tbody tr th {\n",
       "        vertical-align: top;\n",
       "    }\n",
       "\n",
       "    .dataframe thead th {\n",
       "        text-align: right;\n",
       "    }\n",
       "</style>\n",
       "<table border=\"1\" class=\"dataframe\">\n",
       "  <thead>\n",
       "    <tr style=\"text-align: right;\">\n",
       "      <th></th>\n",
       "      <th>passenger_count</th>\n",
       "    </tr>\n",
       "  </thead>\n",
       "  <tbody>\n",
       "    <tr>\n",
       "      <th>0</th>\n",
       "      <td>1</td>\n",
       "    </tr>\n",
       "    <tr>\n",
       "      <th>1</th>\n",
       "      <td>1</td>\n",
       "    </tr>\n",
       "    <tr>\n",
       "      <th>2</th>\n",
       "      <td>1</td>\n",
       "    </tr>\n",
       "    <tr>\n",
       "      <th>3</th>\n",
       "      <td>1</td>\n",
       "    </tr>\n",
       "    <tr>\n",
       "      <th>4</th>\n",
       "      <td>1</td>\n",
       "    </tr>\n",
       "    <tr>\n",
       "      <th>...</th>\n",
       "      <td>...</td>\n",
       "    </tr>\n",
       "    <tr>\n",
       "      <th>2824457</th>\n",
       "      <td>1</td>\n",
       "    </tr>\n",
       "    <tr>\n",
       "      <th>2824458</th>\n",
       "      <td>1</td>\n",
       "    </tr>\n",
       "    <tr>\n",
       "      <th>2824459</th>\n",
       "      <td>3</td>\n",
       "    </tr>\n",
       "    <tr>\n",
       "      <th>2824460</th>\n",
       "      <td>0</td>\n",
       "    </tr>\n",
       "    <tr>\n",
       "      <th>2824461</th>\n",
       "      <td>1</td>\n",
       "    </tr>\n",
       "  </tbody>\n",
       "</table>\n",
       "<p>2824462 rows × 1 columns</p>\n",
       "</div>"
      ],
      "text/plain": [
       "         passenger_count\n",
       "0                      1\n",
       "1                      1\n",
       "2                      1\n",
       "3                      1\n",
       "4                      1\n",
       "...                  ...\n",
       "2824457                1\n",
       "2824458                1\n",
       "2824459                3\n",
       "2824460                0\n",
       "2824461                1\n",
       "\n",
       "[2824462 rows x 1 columns]"
      ]
     },
     "execution_count": 23,
     "metadata": {},
     "output_type": "execute_result"
    }
   ],
   "source": [
    "df_passengers = (\n",
    "    df.filter(pl.col(\"passenger_count\").is_not_null())\n",
    "    .select(\"passenger_count\")\n",
    "    .to_pandas()\n",
    ")\n",
    "df_passengers"
   ]
  },
  {
   "cell_type": "markdown",
   "id": "7472cfb6-1946-4bd7-a105-0b745304cc69",
   "metadata": {},
   "source": [
    "**Exercises**\n",
    "\n",
    "1. How many passengers paid by card, and how many by cash? Check [the data dictionary](https://www.nyc.gov/assets/tlc/downloads/pdf/data_dictionary_trip_records_yellow.pdf) and `payment_type` meaning."
   ]
  },
  {
   "cell_type": "code",
   "execution_count": 24,
   "id": "58672140-706b-488b-b18b-583e8a4ca8e9",
   "metadata": {
    "scrolled": true
   },
   "outputs": [
    {
     "data": {
      "text/html": [
       "<div><style>\n",
       ".dataframe > thead > tr,\n",
       ".dataframe > tbody > tr {\n",
       "  text-align: right;\n",
       "  white-space: pre-wrap;\n",
       "}\n",
       "</style>\n",
       "<small>shape: (1, 1)</small><table border=\"1\" class=\"dataframe\"><thead><tr><th>payment_type</th></tr><tr><td>u32</td></tr></thead><tbody><tr><td>2319046</td></tr></tbody></table></div>"
      ],
      "text/plain": [
       "shape: (1, 1)\n",
       "┌──────────────┐\n",
       "│ payment_type │\n",
       "│ ---          │\n",
       "│ u32          │\n",
       "╞══════════════╡\n",
       "│ 2319046      │\n",
       "└──────────────┘"
      ]
     },
     "execution_count": 24,
     "metadata": {},
     "output_type": "execute_result"
    }
   ],
   "source": [
    "df.select(\"payment_type\").filter(pl.col(\"payment_type\") == 1).count()"
   ]
  },
  {
   "cell_type": "code",
   "execution_count": 25,
   "id": "5c8c3e77-f5fe-4ca6-b282-ee24ccbcebb4",
   "metadata": {},
   "outputs": [
    {
     "data": {
      "text/html": [
       "<div><style>\n",
       ".dataframe > thead > tr,\n",
       ".dataframe > tbody > tr {\n",
       "  text-align: right;\n",
       "  white-space: pre-wrap;\n",
       "}\n",
       "</style>\n",
       "<small>shape: (1, 1)</small><table border=\"1\" class=\"dataframe\"><thead><tr><th>payment_type</th></tr><tr><td>u32</td></tr></thead><tbody><tr><td>439191</td></tr></tbody></table></div>"
      ],
      "text/plain": [
       "shape: (1, 1)\n",
       "┌──────────────┐\n",
       "│ payment_type │\n",
       "│ ---          │\n",
       "│ u32          │\n",
       "╞══════════════╡\n",
       "│ 439191       │\n",
       "└──────────────┘"
      ]
     },
     "execution_count": 25,
     "metadata": {},
     "output_type": "execute_result"
    }
   ],
   "source": [
    "df.select(\"payment_type\").filter(pl.col(\"payment_type\") == 2).count()"
   ]
  },
  {
   "cell_type": "markdown",
   "id": "72f1c3e7-342e-4184-8ea5-d0be4f08370f",
   "metadata": {},
   "source": [
    "2. What percentage of passengers paying by card gave any tip?"
   ]
  },
  {
   "cell_type": "code",
   "execution_count": 26,
   "id": "e33ae85c-519e-43cc-adc5-80d92cfea32d",
   "metadata": {},
   "outputs": [
    {
     "data": {
      "text/html": [
       "<div><style>\n",
       ".dataframe > thead > tr,\n",
       ".dataframe > tbody > tr {\n",
       "  text-align: right;\n",
       "  white-space: pre-wrap;\n",
       "}\n",
       "</style>\n",
       "<small>shape: (1, 1)</small><table border=\"1\" class=\"dataframe\"><thead><tr><th>tip_amount</th></tr><tr><td>f64</td></tr></thead><tbody><tr><td>0.95075</td></tr></tbody></table></div>"
      ],
      "text/plain": [
       "shape: (1, 1)\n",
       "┌────────────┐\n",
       "│ tip_amount │\n",
       "│ ---        │\n",
       "│ f64        │\n",
       "╞════════════╡\n",
       "│ 0.95075    │\n",
       "└────────────┘"
      ]
     },
     "execution_count": 26,
     "metadata": {},
     "output_type": "execute_result"
    }
   ],
   "source": [
    "df.filter((pl.col(\"payment_type\") == 1) & (pl.col(\"tip_amount\") > 0)).select(\"tip_amount\").count() / df.filter(pl.col(\"payment_type\") == 1).select(\"tip_amount\").count()\n"
   ]
  },
  {
   "cell_type": "markdown",
   "id": "897f2ad6-a939-465e-a515-3f56a62c931e",
   "metadata": {},
   "source": [
    "3. What percentage of passengers had to pay any additional charge (`extra`, `tolls_amount`, `congestion_surcharge`, or `airport_fee`)?\n"
   ]
  },
  {
   "cell_type": "code",
   "execution_count": 27,
   "id": "f2b38fc1-865f-4c32-bf50-12ddfe591a26",
   "metadata": {},
   "outputs": [
    {
     "data": {
      "text/html": [
       "<div><style>\n",
       ".dataframe > thead > tr,\n",
       ".dataframe > tbody > tr {\n",
       "  text-align: right;\n",
       "  white-space: pre-wrap;\n",
       "}\n",
       "</style>\n",
       "<small>shape: (1, 1)</small><table border=\"1\" class=\"dataframe\"><thead><tr><th>any_of</th></tr><tr><td>f64</td></tr></thead><tbody><tr><td>0.963906</td></tr></tbody></table></div>"
      ],
      "text/plain": [
       "shape: (1, 1)\n",
       "┌──────────┐\n",
       "│ any_of   │\n",
       "│ ---      │\n",
       "│ f64      │\n",
       "╞══════════╡\n",
       "│ 0.963906 │\n",
       "└──────────┘"
      ]
     },
     "execution_count": 27,
     "metadata": {},
     "output_type": "execute_result"
    }
   ],
   "source": [
    "(\n",
    "    df.with_columns(\n",
    "    any_of=((pl.col(\"extra\") > 0) | (pl.col(\"tolls_amount\") > 0) | (pl.col(\"congestion_surcharge\") > 0) | (pl.col(\"airport_fee\") > 0))\n",
    "    )\n",
    "    .select(\"any_of\")\n",
    "    .mean()\n",
    ")"
   ]
  },
  {
   "cell_type": "markdown",
   "id": "22b99e15-eb26-49dd-a4c1-3c06e5461e4c",
   "metadata": {},
   "source": [
    "4. Plot a histogram of trip times with a single passenger. Exclude any trips over 120 minutes. Use [temporal .dt attributes](https://docs.pola.rs/api/python/stable/reference/expressions/temporal.html)."
   ]
  },
  {
   "cell_type": "code",
   "execution_count": 51,
   "id": "b34f1091-5792-45ab-a78c-57d542d41e0c",
   "metadata": {},
   "outputs": [
    {
     "data": {
      "text/plain": [
       "(array([2.511600e+04, 1.321618e+06, 5.981700e+05, 1.546080e+05,\n",
       "        5.309200e+04, 2.195100e+04, 7.220000e+03, 2.931000e+03,\n",
       "        1.285000e+03, 6.870000e+02]),\n",
       " array([-13. ,   0.2,  13.4,  26.6,  39.8,  53. ,  66.2,  79.4,  92.6,\n",
       "        105.8, 119. ]),\n",
       " <BarContainer object of 10 artists>)"
      ]
     },
     "execution_count": 51,
     "metadata": {},
     "output_type": "execute_result"
    },
    {
     "data": {
      "image/png": "[encoded data removed]",
      "text/plain": [
       "<Figure size 640x480 with 1 Axes>"
      ]
     },
     "metadata": {},
     "output_type": "display_data"
    }
   ],
   "source": [
    "import matplotlib.pyplot as plt\n",
    "\n",
    "d1 = (\n",
    "    df.with_columns(\n",
    "        trip_time=((pl.col(\"tpep_dropoff_datetime\") - pl.col(\"tpep_pickup_datetime\")).dt.total_minutes())\n",
    "    )\n",
    "    .filter(\n",
    "        (pl.col(\"trip_time\") < 120) &\n",
    "        (pl.col(\"passenger_count\") == 1)\n",
    "           )\n",
    "    .select(\"trip_time\")\n",
    ").to_numpy()\n",
    "\n",
    "plt.hist(d1)"
   ]
  },
  {
   "cell_type": "markdown",
   "id": "4f669180-f198-49a1-9f9c-947ac8b2092f",
   "metadata": {},
   "source": [
    "5. What is the Pearson correlation between trip time (in minutes) and trip length?"
   ]
  },
  {
   "cell_type": "code",
   "execution_count": 42,
   "id": "0cd7360e-2f46-4e5c-90b5-d0425de2dc27",
   "metadata": {},
   "outputs": [
    {
     "data": {
      "text/html": [
       "<div><style>\n",
       ".dataframe > thead > tr,\n",
       ".dataframe > tbody > tr {\n",
       "  text-align: right;\n",
       "  white-space: pre-wrap;\n",
       "}\n",
       "</style>\n",
       "<small>shape: (1, 1)</small><table border=\"1\" class=\"dataframe\"><thead><tr><th>trip_time</th></tr><tr><td>f64</td></tr></thead><tbody><tr><td>0.005423</td></tr></tbody></table></div>"
      ],
      "text/plain": [
       "shape: (1, 1)\n",
       "┌───────────┐\n",
       "│ trip_time │\n",
       "│ ---       │\n",
       "│ f64       │\n",
       "╞═══════════╡\n",
       "│ 0.005423  │\n",
       "└───────────┘"
      ]
     },
     "execution_count": 42,
     "metadata": {},
     "output_type": "execute_result"
    }
   ],
   "source": [
    "(\n",
    "    df.with_columns(\n",
    "        trip_time=((pl.col(\"tpep_dropoff_datetime\") - pl.col(\"tpep_pickup_datetime\")).dt.total_minutes())\n",
    "    )\n",
    "    .select(pl.corr(\"trip_time\", \"trip_distance\", method=\"pearson\"))\n",
    ")"
   ]
  },
  {
   "cell_type": "markdown",
   "id": "ceeb567d-7586-4acd-9f04-fbd38a5ecf83",
   "metadata": {},
   "source": [
    "## Joining and aggregations"
   ]
  },
  {
   "cell_type": "markdown",
   "id": "7dee496d-268a-452d-93a4-922658118385",
   "metadata": {},
   "source": [
    "Polars also supports other typical SQL operations for analytics:\n",
    "- joining DataFrames with `.join()` method\n",
    "- GROUP BY with `.group_by()`\n",
    "- windowing functions for time aggregations with `.group_by_dynamic()`\n",
    "- sorting data with `.sort()`\n",
    "\n",
    "Making an alias to explicitly name a column after grouping is very useful.\n",
    "\n",
    "As an example of grouping, we will calculate the average cost of trips starting in each location (PU - pickup location, DO - dropoff location)."
   ]
  },
  {
   "cell_type": "code",
   "execution_count": 43,
   "id": "46a942a5-f001-438a-869d-23accb649113",
   "metadata": {
    "scrolled": true
   },
   "outputs": [
    {
     "data": {
      "text/html": [
       "<div><style>\n",
       ".dataframe > thead > tr,\n",
       ".dataframe > tbody > tr {\n",
       "  text-align: right;\n",
       "  white-space: pre-wrap;\n",
       "}\n",
       "</style>\n",
       "<small>shape: (260, 2)</small><table border=\"1\" class=\"dataframe\"><thead><tr><th>PULocationID</th><th>average_cost</th></tr><tr><td>i32</td><td>f64</td></tr></thead><tbody><tr><td>137</td><td>21.209665</td></tr><tr><td>3</td><td>43.638857</td></tr><tr><td>152</td><td>22.225801</td></tr><tr><td>18</td><td>40.589519</td></tr><tr><td>149</td><td>35.029127</td></tr><tr><td>&hellip;</td><td>&hellip;</td></tr><tr><td>116</td><td>26.40455</td></tr><tr><td>253</td><td>27.578571</td></tr><tr><td>113</td><td>21.615183</td></tr><tr><td>262</td><td>21.315598</td></tr><tr><td>125</td><td>23.755465</td></tr></tbody></table></div>"
      ],
      "text/plain": [
       "shape: (260, 2)\n",
       "┌──────────────┬──────────────┐\n",
       "│ PULocationID ┆ average_cost │\n",
       "│ ---          ┆ ---          │\n",
       "│ i32          ┆ f64          │\n",
       "╞══════════════╪══════════════╡\n",
       "│ 137          ┆ 21.209665    │\n",
       "│ 3            ┆ 43.638857    │\n",
       "│ 152          ┆ 22.225801    │\n",
       "│ 18           ┆ 40.589519    │\n",
       "│ 149          ┆ 35.029127    │\n",
       "│ …            ┆ …            │\n",
       "│ 116          ┆ 26.40455     │\n",
       "│ 253          ┆ 27.578571    │\n",
       "│ 113          ┆ 21.615183    │\n",
       "│ 262          ┆ 21.315598    │\n",
       "│ 125          ┆ 23.755465    │\n",
       "└──────────────┴──────────────┘"
      ]
     },
     "execution_count": 43,
     "metadata": {},
     "output_type": "execute_result"
    }
   ],
   "source": [
    "df_pu_location_means = df.group_by([\"PULocationID\"]).agg(\n",
    "    pl.col(\"total_amount\").mean().alias(\"average_cost\")\n",
    ")\n",
    "df_pu_location_means"
   ]
  },
  {
   "cell_type": "markdown",
   "id": "1a4f52dd-09a9-449b-868a-d1114ca69a69",
   "metadata": {},
   "source": [
    "Those IDs aren't very informative. However, we can join them with information from `taxi_zone_lookup.csv`, to get a clearer picture."
   ]
  },
  {
   "cell_type": "code",
   "execution_count": 44,
   "id": "a9c0a8ff-e888-49a6-839b-4dcb9f981c2d",
   "metadata": {},
   "outputs": [
    {
     "data": {
      "text/html": [
       "<div><style>\n",
       ".dataframe > thead > tr,\n",
       ".dataframe > tbody > tr {\n",
       "  text-align: right;\n",
       "  white-space: pre-wrap;\n",
       "}\n",
       "</style>\n",
       "<small>shape: (265, 4)</small><table border=\"1\" class=\"dataframe\"><thead><tr><th>LocationID</th><th>Borough</th><th>Zone</th><th>service_zone</th></tr><tr><td>i64</td><td>str</td><td>str</td><td>str</td></tr></thead><tbody><tr><td>1</td><td>&quot;EWR&quot;</td><td>&quot;Newark Airport&quot;</td><td>&quot;EWR&quot;</td></tr><tr><td>2</td><td>&quot;Queens&quot;</td><td>&quot;Jamaica Bay&quot;</td><td>&quot;Boro Zone&quot;</td></tr><tr><td>3</td><td>&quot;Bronx&quot;</td><td>&quot;Allerton/Pelham Gardens&quot;</td><td>&quot;Boro Zone&quot;</td></tr><tr><td>4</td><td>&quot;Manhattan&quot;</td><td>&quot;Alphabet City&quot;</td><td>&quot;Yellow Zone&quot;</td></tr><tr><td>5</td><td>&quot;Staten Island&quot;</td><td>&quot;Arden Heights&quot;</td><td>&quot;Boro Zone&quot;</td></tr><tr><td>&hellip;</td><td>&hellip;</td><td>&hellip;</td><td>&hellip;</td></tr><tr><td>261</td><td>&quot;Manhattan&quot;</td><td>&quot;World Trade Center&quot;</td><td>&quot;Yellow Zone&quot;</td></tr><tr><td>262</td><td>&quot;Manhattan&quot;</td><td>&quot;Yorkville East&quot;</td><td>&quot;Yellow Zone&quot;</td></tr><tr><td>263</td><td>&quot;Manhattan&quot;</td><td>&quot;Yorkville West&quot;</td><td>&quot;Yellow Zone&quot;</td></tr><tr><td>264</td><td>&quot;Unknown&quot;</td><td>&quot;N/A&quot;</td><td>&quot;N/A&quot;</td></tr><tr><td>265</td><td>&quot;N/A&quot;</td><td>&quot;Outside of NYC&quot;</td><td>&quot;N/A&quot;</td></tr></tbody></table></div>"
      ],
      "text/plain": [
       "shape: (265, 4)\n",
       "┌────────────┬───────────────┬─────────────────────────┬──────────────┐\n",
       "│ LocationID ┆ Borough       ┆ Zone                    ┆ service_zone │\n",
       "│ ---        ┆ ---           ┆ ---                     ┆ ---          │\n",
       "│ i64        ┆ str           ┆ str                     ┆ str          │\n",
       "╞════════════╪═══════════════╪═════════════════════════╪══════════════╡\n",
       "│ 1          ┆ EWR           ┆ Newark Airport          ┆ EWR          │\n",
       "│ 2          ┆ Queens        ┆ Jamaica Bay             ┆ Boro Zone    │\n",
       "│ 3          ┆ Bronx         ┆ Allerton/Pelham Gardens ┆ Boro Zone    │\n",
       "│ 4          ┆ Manhattan     ┆ Alphabet City           ┆ Yellow Zone  │\n",
       "│ 5          ┆ Staten Island ┆ Arden Heights           ┆ Boro Zone    │\n",
       "│ …          ┆ …             ┆ …                       ┆ …            │\n",
       "│ 261        ┆ Manhattan     ┆ World Trade Center      ┆ Yellow Zone  │\n",
       "│ 262        ┆ Manhattan     ┆ Yorkville East          ┆ Yellow Zone  │\n",
       "│ 263        ┆ Manhattan     ┆ Yorkville West          ┆ Yellow Zone  │\n",
       "│ 264        ┆ Unknown       ┆ N/A                     ┆ N/A          │\n",
       "│ 265        ┆ N/A           ┆ Outside of NYC          ┆ N/A          │\n",
       "└────────────┴───────────────┴─────────────────────────┴──────────────┘"
      ]
     },
     "execution_count": 44,
     "metadata": {},
     "output_type": "execute_result"
    }
   ],
   "source": [
    "df_taxi_zones = pl.read_csv(\"data/taxi_zone_lookup.csv\")\n",
    "df_taxi_zones"
   ]
  },
  {
   "cell_type": "code",
   "execution_count": 45,
   "id": "4450b3f4-3d78-4b51-8865-4cfc8373e77e",
   "metadata": {
    "scrolled": true
   },
   "outputs": [
    {
     "data": {
      "text/html": [
       "<div><style>\n",
       ".dataframe > thead > tr,\n",
       ".dataframe > tbody > tr {\n",
       "  text-align: right;\n",
       "  white-space: pre-wrap;\n",
       "}\n",
       "</style>\n",
       "<small>shape: (260, 3)</small><table border=\"1\" class=\"dataframe\"><thead><tr><th>Borough</th><th>Zone</th><th>average_cost</th></tr><tr><td>str</td><td>str</td><td>f64</td></tr></thead><tbody><tr><td>&quot;Staten Island&quot;</td><td>&quot;Charleston/Tottenville&quot;</td><td>354.23</td></tr><tr><td>&quot;Staten Island&quot;</td><td>&quot;Port Richmond&quot;</td><td>121.51</td></tr><tr><td>&quot;Staten Island&quot;</td><td>&quot;Great Kills&quot;</td><td>111.48</td></tr><tr><td>&quot;Staten Island&quot;</td><td>&quot;Heartland Village/Todt Hill&quot;</td><td>105.842222</td></tr><tr><td>&quot;EWR&quot;</td><td>&quot;Newark Airport&quot;</td><td>104.196712</td></tr><tr><td>&hellip;</td><td>&hellip;</td><td>&hellip;</td></tr><tr><td>&quot;Queens&quot;</td><td>&quot;Saint Michaels Cemetery/Woodsi…</td><td>13.256995</td></tr><tr><td>&quot;Queens&quot;</td><td>&quot;Queensbridge/Ravenswood&quot;</td><td>10.274222</td></tr><tr><td>&quot;Bronx&quot;</td><td>&quot;Rikers Island&quot;</td><td>10.2</td></tr><tr><td>&quot;Staten Island&quot;</td><td>&quot;Mariners Harbor&quot;</td><td>2.25</td></tr><tr><td>&quot;Staten Island&quot;</td><td>&quot;West Brighton&quot;</td><td>0.0</td></tr></tbody></table></div>"
      ],
      "text/plain": [
       "shape: (260, 3)\n",
       "┌───────────────┬─────────────────────────────────┬──────────────┐\n",
       "│ Borough       ┆ Zone                            ┆ average_cost │\n",
       "│ ---           ┆ ---                             ┆ ---          │\n",
       "│ str           ┆ str                             ┆ f64          │\n",
       "╞═══════════════╪═════════════════════════════════╪══════════════╡\n",
       "│ Staten Island ┆ Charleston/Tottenville          ┆ 354.23       │\n",
       "│ Staten Island ┆ Port Richmond                   ┆ 121.51       │\n",
       "│ Staten Island ┆ Great Kills                     ┆ 111.48       │\n",
       "│ Staten Island ┆ Heartland Village/Todt Hill     ┆ 105.842222   │\n",
       "│ EWR           ┆ Newark Airport                  ┆ 104.196712   │\n",
       "│ …             ┆ …                               ┆ …            │\n",
       "│ Queens        ┆ Saint Michaels Cemetery/Woodsi… ┆ 13.256995    │\n",
       "│ Queens        ┆ Queensbridge/Ravenswood         ┆ 10.274222    │\n",
       "│ Bronx         ┆ Rikers Island                   ┆ 10.2         │\n",
       "│ Staten Island ┆ Mariners Harbor                 ┆ 2.25         │\n",
       "│ Staten Island ┆ West Brighton                   ┆ 0.0          │\n",
       "└───────────────┴─────────────────────────────────┴──────────────┘"
      ]
     },
     "execution_count": 45,
     "metadata": {},
     "output_type": "execute_result"
    }
   ],
   "source": [
    "(\n",
    "    df_pu_location_means.join(\n",
    "        df_taxi_zones, left_on=\"PULocationID\", right_on=\"LocationID\"\n",
    "    )\n",
    "    .select([\"Borough\", \"Zone\", \"average_cost\"])\n",
    "    .sort(\"average_cost\", descending=True)\n",
    ")"
   ]
  },
  {
   "cell_type": "markdown",
   "id": "e4e87f41-b666-4465-bd71-123a5f5993a0",
   "metadata": {},
   "source": [
    "Grouping this way is perfect for analyzing different data segments, such as regions or customer types. However, for analyzing groups changing in time, SQL and DataFrame framework use a concept of windows and window functions. They are basically groups, but dynamic in time. Those calculations are very common in analytics, but also very computationally intensive.\n",
    "\n",
    "As an example, we will compute the average daily travel time in different days. Note that in Polars, window functions need a sorted input column."
   ]
  },
  {
   "cell_type": "code",
   "execution_count": 46,
   "id": "196a38cb-4582-4d7d-aa8f-7ed1f8557183",
   "metadata": {
    "scrolled": true
   },
   "outputs": [
    {
     "data": {
      "text/plain": [
       "<Axes: xlabel='tpep_dropoff_datetime'>"
      ]
     },
     "execution_count": 46,
     "metadata": {},
     "output_type": "execute_result"
    },
    {
     "data": {
      "image/png": "[encoded data removed]",
      "text/plain": [
       "<Figure size 640x480 with 1 Axes>"
      ]
     },
     "metadata": {},
     "output_type": "display_data"
    }
   ],
   "source": [
    "df_daily_avg_trip_times = (\n",
    "    df.with_columns(\n",
    "        (pl.col(\"tpep_dropoff_datetime\") - pl.col(\"tpep_pickup_datetime\"))\n",
    "        .dt.total_minutes()\n",
    "        .alias(\"trip_time\")\n",
    "    )\n",
    "    # we have some errors in the data, we'll clean them in the next section\n",
    "    .filter(pl.col(\"trip_time\") < 120)\n",
    "    .filter(pl.col(\"tpep_dropoff_datetime\").dt.year() == 2024)\n",
    "    .sort(\"tpep_dropoff_datetime\")\n",
    "    .group_by_dynamic(\"tpep_dropoff_datetime\", every=\"1d\")\n",
    "    .agg(pl.col(\"trip_time\").mean().alias(\"avg_trip_time\"))\n",
    "    .to_pandas()\n",
    "    .plot.line(x=\"tpep_dropoff_datetime\", y=\"avg_trip_time\")\n",
    ")\n",
    "df_daily_avg_trip_times"
   ]
  },
  {
   "cell_type": "markdown",
   "id": "4444794b-44ca-47ed-bbb4-2cef2166b3dc",
   "metadata": {},
   "source": [
    "**Exercises**\n",
    "\n",
    "1. What is the mean distance of trips with different number of passengers? Plot them on a bar plot. Exclude null values."
   ]
  },
  {
   "cell_type": "code",
   "execution_count": 81,
   "id": "74d31bbd-b972-443d-82d5-d16bb0eedc33",
   "metadata": {},
   "outputs": [
    {
     "data": {
      "text/plain": [
       "<Axes: xlabel='passenger_count'>"
      ]
     },
     "execution_count": 81,
     "metadata": {},
     "output_type": "execute_result"
    },
    {
     "data": {
      "image/png": "[encoded data removed]",
      "text/plain": [
       "<Figure size 640x480 with 1 Axes>"
      ]
     },
     "metadata": {},
     "output_type": "display_data"
    }
   ],
   "source": [
    "d2 = df.select(\"trip_distance\", \"passenger_count\").drop_nulls().group_by(\"passenger_count\").agg(\n",
    "    pl.col(\"trip_distance\").mean().alias(\"mean_distance\")\n",
    ").to_pandas().plot.bar(x=\"passenger_count\", y=\"mean_distance\")\n",
    "d2"
   ]
  },
  {
   "cell_type": "markdown",
   "id": "7667036c-bd50-42f0-983e-aff6ca57a5d1",
   "metadata": {},
   "source": [
    "2. What is the median total trip cost (`total_amount`) during the day, and during the night? Assume that day hours are 6:30-19:30. [pl.time](https://docs.pola.rs/api/python/dev/reference/expressions/api/polars.time.html) may be useful.\n",
    "\n",
    "Nie wiedziałem jak traktować przejazdy zaczynające się w dzień i kończące w nocy więc zrobiłem dla nich osobną kategorię i wyszło w sumie coś w miarę ciekawego"
   ]
  },
  {
   "cell_type": "code",
   "execution_count": 119,
   "id": "b0403b39-f402-47e6-b695-5fa12a315334",
   "metadata": {},
   "outputs": [
    {
     "data": {
      "text/html": [
       "<div><style>\n",
       ".dataframe > thead > tr,\n",
       ".dataframe > tbody > tr {\n",
       "  text-align: right;\n",
       "  white-space: pre-wrap;\n",
       "}\n",
       "</style>\n",
       "<small>shape: (3, 3)</small><table border=\"1\" class=\"dataframe\"><thead><tr><th>trip_times</th><th>median_total</th><th>median_trip_time</th></tr><tr><td>str</td><td>f64</td><td>f64</td></tr></thead><tbody><tr><td>&quot;day&quot;</td><td>19.74</td><td>11.0</td></tr><tr><td>&quot;day_and_night&quot;</td><td>28.2</td><td>18.0</td></tr><tr><td>&quot;night&quot;</td><td>20.52</td><td>11.0</td></tr></tbody></table></div>"
      ],
      "text/plain": [
       "shape: (3, 3)\n",
       "┌───────────────┬──────────────┬──────────────────┐\n",
       "│ trip_times    ┆ median_total ┆ median_trip_time │\n",
       "│ ---           ┆ ---          ┆ ---              │\n",
       "│ str           ┆ f64          ┆ f64              │\n",
       "╞═══════════════╪══════════════╪══════════════════╡\n",
       "│ day           ┆ 19.74        ┆ 11.0             │\n",
       "│ day_and_night ┆ 28.2         ┆ 18.0             │\n",
       "│ night         ┆ 20.52        ┆ 11.0             │\n",
       "└───────────────┴──────────────┴──────────────────┘"
      ]
     },
     "execution_count": 119,
     "metadata": {},
     "output_type": "execute_result"
    }
   ],
   "source": [
    "(\n",
    "    df.with_columns(\n",
    "        pickup_day = pl.time(pl.col(\"tpep_pickup_datetime\").dt.hour(), pl.col(\"tpep_pickup_datetime\").dt.minute()).is_between(pl.time(6, 30), pl.time(19, 30)),\n",
    "        dropoff_day = pl.time(pl.col(\"tpep_dropoff_datetime\").dt.hour(), pl.col(\"tpep_dropoff_datetime\").dt.minute()).is_between(pl.time(6, 30), pl.time(19, 30)),\n",
    "        trip_time = (pl.col(\"tpep_dropoff_datetime\") - pl.col(\"tpep_pickup_datetime\")).dt.total_minutes()\n",
    "    )\n",
    "    .with_columns(\n",
    "        trip_times = (\n",
    "            pl.when(pl.col(\"pickup_day\") & pl.col(\"dropoff_day\"))\n",
    "              .then(pl.lit(\"day\"))\n",
    "              .when(~pl.col(\"pickup_day\") & ~pl.col(\"dropoff_day\"))\n",
    "              .then(pl.lit(\"night\"))\n",
    "              .otherwise(pl.lit(\"day_and_night\"))\n",
    "        )\n",
    "    )\n",
    "    .select(\"trip_times\", \"total_amount\", \"trip_time\")\n",
    "    .group_by(\"trip_times\")\n",
    "    .agg([\n",
    "        pl.col(\"total_amount\").median().alias(\"median_total\"),\n",
    "        pl.col(\"trip_time\").median().alias(\"median_trip_time\"),\n",
    "    ])\n",
    ")\n"
   ]
  },
  {
   "cell_type": "markdown",
   "id": "52dfcb15-e8fc-4e64-8ed9-67852ae9c857",
   "metadata": {},
   "source": [
    "3. What are the top 5 pairs of boroughs with the highest average trip time?"
   ]
  },
  {
   "cell_type": "code",
   "execution_count": null,
   "id": "99f87f2f-c6d6-425e-96a4-9f33eaa36a17",
   "metadata": {},
   "outputs": [],
   "source": []
  },
  {
   "cell_type": "markdown",
   "id": "c91f88aa-b9d6-4541-95eb-1004b3326eef",
   "metadata": {},
   "source": [
    "4. Calculate average costs of trip per minute, if starts and ends in the same borough and zone. What are the names of 5 boroughs and zones with the highest cost? Ignore trips under 1 minute."
   ]
  },
  {
   "cell_type": "code",
   "execution_count": null,
   "id": "9838aa08-8aa7-4273-b05b-df1e78038a41",
   "metadata": {},
   "outputs": [],
   "source": []
  },
  {
   "cell_type": "markdown",
   "id": "13ebf476-0129-47cf-810b-9392c1560cf5",
   "metadata": {},
   "source": [
    "5. What are daily total number of trips? Plot them on a line plot. Include only samples from 2024."
   ]
  },
  {
   "cell_type": "markdown",
   "id": "fb239c61-d23c-4c5a-a521-91111bdc5fe1",
   "metadata": {},
   "source": [
    "## Data cleaning and prepreprocessing"
   ]
  },
  {
   "cell_type": "markdown",
   "id": "f8b9867f-1372-40d2-828e-fc7673cd8c0f",
   "metadata": {},
   "source": [
    "Many operations of data cleaning, transforming, merging, deduplication etc. are done on the level of DataFrame processing. Others, like scaling or filling missing values (e.g. with mean or median) in ML, are more frequently implemented as scikit-learn pipelines. It depends on a use case, but many times we need to preprocess data as an integral part of creating the resulting dataset.\n",
    "\n",
    "Important Polars functions related to data cleaning\n",
    "- `.describe()` - summarize column statistics\n",
    "- `.is_null()`, `.is_not_null()` - checking and filtering missing values\n",
    "- `.drop_nulls()` - removing rows with missing values\n",
    "- `.drop()` - removing columns\n",
    "- `.fill_null()` - fills missing values\n",
    "- `.cast()` - change column data type\n",
    "- `.to_dummies()` - use one-hot encoding with dummy variables for categorical column\n",
    "- `.unique()` - drops duplicate rows by a given column\n",
    "\n",
    "As an example, let's see the date range in out data. It should be only January 2024."
   ]
  },
  {
   "cell_type": "code",
   "execution_count": null,
   "id": "a430ac2f-8a91-453d-bc7c-07a9bca0d9ab",
   "metadata": {
    "scrolled": true
   },
   "outputs": [],
   "source": [
    "(\n",
    "    df.select(\n",
    "        pl.col(\"tpep_pickup_datetime\").min().alias(\"pickup_time_min\"),\n",
    "        pl.col(\"tpep_pickup_datetime\").max().alias(\"pickup_time_max\"),\n",
    "        pl.col(\"tpep_dropoff_datetime\").min().alias(\"dropoff_time_min\"),\n",
    "        pl.col(\"tpep_dropoff_datetime\").max().alias(\"dropoff_time_max\"),\n",
    "    )\n",
    ")"
   ]
  },
  {
   "cell_type": "markdown",
   "id": "759a7e00-dec0-44e9-a685-b9dc865a2585",
   "metadata": {},
   "source": [
    "Smallest times are from 2002, that's definitely wrong! End times slightly in February are more acceptable.\n",
    "\n",
    "Let's also check passenger counts. NYC taxis take at most 6 passengers, larger numbers are group rides, provided in another file. This number is written manually by the taxi driver, so we also expect many missing values."
   ]
  },
  {
   "cell_type": "code",
   "execution_count": null,
   "id": "c04a86a6-5921-43e7-868f-ae3715e740b4",
   "metadata": {},
   "outputs": [],
   "source": [
    "over_6_passengers_count = len(df.filter(pl.col(\"passenger_count\") > 6))\n",
    "null_passengers_count = len(df.filter(pl.col(\"passenger_count\").is_null()))\n",
    "\n",
    "over_6_passengers_perc = over_6_passengers_count / len(df)\n",
    "null_passengers_perc = null_passengers_count / len(df)\n",
    "\n",
    "print(f\"Over 6 passengers: {over_6_passengers_count} ({over_6_passengers_perc:.3%})\")\n",
    "print(f\"Null passengers: {null_passengers_count} ({null_passengers_perc:.3%})\")"
   ]
  },
  {
   "cell_type": "markdown",
   "id": "753e401b-27d6-4972-895d-c187bdf0b572",
   "metadata": {},
   "source": [
    "To check null values in all columns, `.describe()` works really well:"
   ]
  },
  {
   "cell_type": "code",
   "execution_count": null,
   "id": "90845d01-125b-4b55-a139-9522f082ce8c",
   "metadata": {},
   "outputs": [],
   "source": [
    "df.describe()"
   ]
  },
  {
   "cell_type": "markdown",
   "id": "1a11e9d4-548f-4fc9-9585-8acec35bab96",
   "metadata": {},
   "source": [
    "Note that there is exactly the same number of NULL values in all columns. This can also indicate more systematic problem and deeper real-life investigation. Here, we should probably remove that data.\n",
    "\n",
    "If we wanted to use this data in machine learning pipelines, e.g. for forecasting number of taxi rides, the borough information could be very useful. However, it's a categorical variable, and very few algorithms support them natively (notably XGBoost, LightGBM, CatBoost). Encoding with dummy variables would be useful here."
   ]
  },
  {
   "cell_type": "code",
   "execution_count": null,
   "id": "121ddbc8-4d73-4993-9d7a-2e373d18016d",
   "metadata": {},
   "outputs": [],
   "source": [
    "df_taxi_zones"
   ]
  },
  {
   "cell_type": "code",
   "execution_count": null,
   "id": "fe3054c8-a6e7-4c60-954f-1f768ef6f23c",
   "metadata": {},
   "outputs": [],
   "source": [
    "(df_taxi_zones.select([\"LocationID\", \"Borough\"]).to_dummies(\"Borough\"))"
   ]
  },
  {
   "cell_type": "markdown",
   "id": "181c401e-95bc-42bb-a62d-c0bb98c11b9f",
   "metadata": {},
   "source": [
    "For selecting columns after dummy encoding, e.g. for grouping aggregations, you can use [regular expressions](https://regex101.com/) to [select columns](https://docs.pola.rs/api/python/version/0.18/reference/expressions/api/polars.col.html) in `pl.col()`. Regular expressions need to start with `^` and end with `$`. You can also pass such general expressions as aggregations directly.\n",
    "\n",
    "As an example, let's compute a total number of rides from different borough for each day."
   ]
  },
  {
   "cell_type": "code",
   "execution_count": null,
   "id": "81232b13-7206-4b5d-8d1b-2fdcf46820f4",
   "metadata": {
    "scrolled": true
   },
   "outputs": [],
   "source": [
    "(\n",
    "    df.join(df_taxi_zones, left_on=\"PULocationID\", right_on=\"LocationID\")\n",
    "    .with_columns(pl.col(\"tpep_pickup_datetime\").dt.date().alias(\"date\"))\n",
    "    .select([\"date\", \"passenger_count\", \"Borough\"])\n",
    "    .to_dummies(\"Borough\")\n",
    "    .group_by(\"date\")\n",
    "    # select all columns with name starting with \"Borough_\" and anything further\n",
    "    .agg(pl.col(\"^Borough_.*$\").sum())\n",
    ")"
   ]
  },
  {
   "cell_type": "markdown",
   "id": "094d6ee5-f6ec-4e9c-8a00-854152d06b9d",
   "metadata": {},
   "source": [
    "Lastly, it's often useful to reduce the number of bits. By default, Polars is quite conservative and uses quite large integers. We can use a much smaller number in many cases, e.g. for categorical variables, small counts, or identifiers. This reduces memory usage and also speeds up calculations on modern processors, which can pack more data for vector operations this way.\n",
    "\n",
    "Here, two functions are useful:\n",
    "- `.schema()` to get column names and types\n",
    "- `.describe()` to get minimal and maximal values of all columns"
   ]
  },
  {
   "cell_type": "code",
   "execution_count": null,
   "id": "dc95aeee-0281-412d-a592-3393bb90d971",
   "metadata": {},
   "outputs": [],
   "source": [
    "df.schema"
   ]
  },
  {
   "cell_type": "markdown",
   "id": "0f7647c3-969e-4318-8f81-ec75e76ca470",
   "metadata": {},
   "source": [
    "For example, we see that `passenger_count` could be a small unsigned integer, as it's surely under 255. See [documentation](https://docs.pola.rs/api/python/stable/reference/datatypes.html) for a list of data types."
   ]
  },
  {
   "cell_type": "code",
   "execution_count": null,
   "id": "cecabfc0-56a8-47ca-aaca-7210f69ed7be",
   "metadata": {
    "scrolled": true
   },
   "outputs": [],
   "source": [
    "df.with_columns(pl.col(\"passenger_count\").cast(pl.UInt8))"
   ]
  },
  {
   "cell_type": "markdown",
   "id": "63fee5c1-4c9d-414b-9f15-b1059c4f44e7",
   "metadata": {
    "execution": {
     "iopub.execute_input": "2025-03-09T19:28:46.618583Z",
     "iopub.status.busy": "2025-03-09T19:28:46.618418Z",
     "iopub.status.idle": "2025-03-09T19:28:46.624733Z",
     "shell.execute_reply": "2025-03-09T19:28:46.624340Z",
     "shell.execute_reply.started": "2025-03-09T19:28:46.618574Z"
    }
   },
   "source": [
    "**Exercises**\n",
    "\n",
    "1. Keep only rows from 2024.\n",
    "2. Check how many rows have zero passengers. Keep rows that have between 1 and 6 passengers (inclusive).\n",
    "3. Remove trips lasting over two hours.\n",
    "4. Check value ranges of `PULocationID` and `DOLocationID`, and optimize their data types."
   ]
  },
  {
   "cell_type": "code",
   "execution_count": null,
   "id": "b6577b11-c4df-4c30-bdd7-23bb1544c0f7",
   "metadata": {},
   "outputs": [],
   "source": []
  },
  {
   "cell_type": "markdown",
   "id": "e91e73ea-3cd9-4286-988d-17434bbc0606",
   "metadata": {},
   "source": [
    "## Lazy execution"
   ]
  },
  {
   "cell_type": "markdown",
   "id": "f55680d5-d433-4732-a601-2b541d729675",
   "metadata": {},
   "source": [
    "We used the **eager** execution mode before. Now, let's use the **lazy** mode, which is very useful for operating on larger data. Let's read all Parquet files for 2024. Polars allows glob syntax with wildcard `*` to read many files.\n",
    "\n",
    "Let's see what happens for eager `.read_parquet()`."
   ]
  },
  {
   "cell_type": "code",
   "execution_count": null,
   "id": "d5e4a9fd-7619-436f-a337-cec2eac42456",
   "metadata": {
    "scrolled": true
   },
   "outputs": [],
   "source": [
    "df = pl.read_parquet(f\"{DATA_DIR}/*.parquet\")"
   ]
  },
  {
   "cell_type": "markdown",
   "id": "87782d08-fd6b-45e8-88a3-9c3f296d1ca7",
   "metadata": {
    "execution": {
     "iopub.execute_input": "2025-03-08T18:21:03.086747Z",
     "iopub.status.busy": "2025-03-08T18:21:03.085980Z",
     "iopub.status.idle": "2025-03-08T18:21:03.142663Z",
     "shell.execute_reply": "2025-03-08T18:21:03.141045Z",
     "shell.execute_reply.started": "2025-03-08T18:21:03.086695Z"
    }
   },
   "source": [
    "We have an error - some files have column `tpep_pickup_datetime` encoded as nanosecond integers, and others as microseconds. This can be fixed with manually casting this column. With eager mode, we would have to:\n",
    "- read list of DataFrames\n",
    "- cast every one\n",
    "- concatenate them\n",
    "\n",
    "However, this is very suboptimal, e.g. DataFrames will be read sequentially, when they could be read in parallel. So let's use the lazy API, with `.scan_parquet()` instead of `.read_parquet()`. It returns a `LazyFrame` object."
   ]
  },
  {
   "cell_type": "code",
   "execution_count": null,
   "id": "0bb8b29c-bf60-4a33-b2c1-27ad7c095700",
   "metadata": {},
   "outputs": [],
   "source": [
    "df = pl.scan_parquet(f\"{DATA_DIR}/1.parquet\")\n",
    "print(type(df))\n",
    "df"
   ]
  },
  {
   "cell_type": "markdown",
   "id": "eed5212b-c0f5-46a1-9cc0-7d20cb1c9ac7",
   "metadata": {},
   "source": [
    "No computation has happened yet - we just created a computation graph with a single operation. It's not even optimized yet. Let's build a larger graph, reading all Parquet files and casting the columns appropriately.\n",
    "\n",
    "General type casting uses `.cast()` method. Changing time units like here uses `.dt.cast_time_unit()` instead, as this can be done much faster as a specialized function.\n",
    "\n",
    "We will also call `.explain()` to print the computation graph."
   ]
  },
  {
   "cell_type": "code",
   "execution_count": null,
   "id": "a3aa2b36-9360-4126-836f-3b22bf1a51ff",
   "metadata": {
    "scrolled": true
   },
   "outputs": [],
   "source": [
    "dfs = []\n",
    "for month in range(1, 13):\n",
    "    df = pl.scan_parquet(f\"{DATA_DIR}/{month}.parquet\")\n",
    "    df = df.with_columns(\n",
    "        pl.col(\"tpep_pickup_datetime\").dt.cast_time_unit(\"ms\"),\n",
    "        pl.col(\"tpep_dropoff_datetime\").dt.cast_time_unit(\"ms\"),\n",
    "    )\n",
    "    dfs.append(df)\n",
    "\n",
    "df_2024 = pl.concat(dfs)\n",
    "print(df_2024.explain())"
   ]
  },
  {
   "cell_type": "markdown",
   "id": "ba97a771-48f7-4463-91be-ead6f60aeca4",
   "metadata": {},
   "source": [
    "Nothing happened yet, and nothing will happen until we call `.collect()` or a lazy output function like e.g. `.sink_parquet()` (that would use streaming mode). Let's do it then. Note that this will load the entire 2024 data into memory."
   ]
  },
  {
   "cell_type": "code",
   "execution_count": null,
   "id": "f2855fbc-2316-422a-94d4-b9b7b655f32a",
   "metadata": {
    "scrolled": true
   },
   "outputs": [],
   "source": [
    "df_2024.collect()"
   ]
  },
  {
   "cell_type": "markdown",
   "id": "4a27205e-99b1-4d36-9c30-a59cbaf2fe7e",
   "metadata": {},
   "source": [
    "You can all most operations on a LazyFrame, except for the ones that require [knowledge of data schema](https://docs.pola.rs/user-guide/lazy/schemas/#the-lazy-api-must-know-the-schema). It is known only based on materialized data. This is e.g. `.to_dummies()` ([documentation](https://docs.pola.rs/api/python/stable/reference/dataframe/api/polars.DataFrame.to_dummies.html)), which applies one-hot encoding to a categorical column. It needs to read the data and know the actual possible categories to create columns. Other examples include `.pivot()` and `.columns` attribute.\n",
    "\n",
    "Let's see an example of a lazy query that also heavily filters the data. This will also nicely utilize the ability of Parquet to read only certain columns and rows from files."
   ]
  },
  {
   "cell_type": "code",
   "execution_count": null,
   "id": "292bfcf2-80d3-4e6e-a14d-86360b6deeb5",
   "metadata": {},
   "outputs": [],
   "source": [
    "# average total taxi fare from the airport among tipping customers\n",
    "(\n",
    "    df_2024.filter(\n",
    "        pl.col(\"Airport_fee\").is_not_null(),\n",
    "        pl.col(\"Airport_fee\") > 0,\n",
    "        pl.col(\"tip_amount\") > 0,\n",
    "    )\n",
    "    .select(\"total_amount\")\n",
    "    .mean()\n",
    "    .collect()\n",
    ")"
   ]
  },
  {
   "cell_type": "markdown",
   "id": "be8f7b9e-a59c-4104-b2a7-f0102601c308",
   "metadata": {},
   "source": [
    "**Exercises**\n",
    "\n",
    "1. Compare the speed of the above query in eager and lazy modes.\n",
    "2. Using lazy execution, compare the median taxi are in the first and fourth quarters of 2024.\n",
    "3. Using lazy execution, calculate the median daily values of total amount of taxi fares. Then calculate their rolling sum with a weekly window. Plot the result on a line plot."
   ]
  },
  {
   "cell_type": "code",
   "execution_count": null,
   "id": "d6c84a65-916c-43ee-b4fc-b7cf3008d2e8",
   "metadata": {},
   "outputs": [],
   "source": []
  }
 ],
 "metadata": {
  "kernelspec": {
   "display_name": "Python 3 (ipykernel)",
   "language": "python",
   "name": "python3"
  },
  "language_info": {
   "codemirror_mode": {
    "name": "ipython",
    "version": 3
   },
   "file_extension": ".py",
   "mimetype": "text/x-python",
   "name": "python",
   "nbconvert_exporter": "python",
   "pygments_lexer": "ipython3",
   "version": "3.11.9"
  }
 },
 "nbformat": 4,
 "nbformat_minor": 5
}
