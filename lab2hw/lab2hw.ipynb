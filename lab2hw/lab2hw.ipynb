{
 "cells": [
  {
   "cell_type": "markdown",
   "id": "27c7673b-47c4-404d-99fd-8da5b6177d36",
   "metadata": {},
   "source": [
    "# 1. Download data"
   ]
  },
  {
   "cell_type": "code",
   "execution_count": 1,
   "id": "2e0d21bb-7fbb-49ef-9a91-e55eafb886cb",
   "metadata": {},
   "outputs": [
    {
     "data": {
      "text/plain": [
       "('data/stations-2023-09.csv', <http.client.HTTPMessage at 0x20369dd2420>)"
      ]
     },
     "execution_count": 1,
     "metadata": {},
     "output_type": "execute_result"
    }
   ],
   "source": [
    "import urllib.request\n",
    "\n",
    "urllib.request.urlretrieve(\"https://opendata.rijdendetreinen.nl/public/tariff-distances/tariff-distances-2022-01.csv\", \"data/tariff-distances-2022-01.csv\")\n",
    "urllib.request.urlretrieve(\"https://opendata.rijdendetreinen.nl/public/stations/stations-2023-09.csv\", \"data/stations-2023-09.csv\")"
   ]
  },
  {
   "cell_type": "code",
   "execution_count": 2,
   "id": "2b78aa14-59f6-4591-9498-9f005df746af",
   "metadata": {},
   "outputs": [],
   "source": [
    "import os\n",
    "\n",
    "os.makedirs(\"data/disruptions\", exist_ok=True)\n",
    "\n",
    "for year in range(2011, 2024):\n",
    "    urllib.request.urlretrieve(f\"https://opendata.rijdendetreinen.nl/public/disruptions/disruptions-{year}.csv\", f\"data/disruptions/disruptions-{year}.csv\")"
   ]
  },
  {
   "cell_type": "code",
   "execution_count": 3,
   "id": "fd6b8d4f-99dd-4edb-a771-f6a1628709b6",
   "metadata": {},
   "outputs": [],
   "source": [
    "import gzip\n",
    "import shutil\n",
    "\n",
    "os.makedirs(\"data/services\", exist_ok=True)\n",
    "\n",
    "for year in range(2019, 2025):\n",
    "    gz_path = f\"data/services/services-{year}.csv.gz\"\n",
    "    csv_path = f\"data/services/services-{year}.csv\"\n",
    "    urllib.request.urlretrieve(f\"https://opendata.rijdendetreinen.nl/public/services/services-{year}.csv.gz\", gz_path)\n",
    "    \n",
    "    with gzip.open(gz_path, 'rb') as f_in:\n",
    "        with open(csv_path, 'wb') as f_out:\n",
    "            shutil.copyfileobj(f_in, f_out)\n",
    "    os.remove(gz_path)\n",
    "\n",
    "    \n",
    "for month in range(1, 10):\n",
    "    gz_path = f\"data/services/services-2025-{month}.csv.gz\"\n",
    "    csv_path = f\"data/services/services-2025-{month}.csv\"\n",
    "    urllib.request.urlretrieve(f\"https://opendata.rijdendetreinen.nl/public/services/services-2025-{month:02}.csv.gz\", gz_path)\n",
    "    \n",
    "    with gzip.open(gz_path, 'rb') as f_in:\n",
    "        with open(csv_path, 'wb') as f_out:\n",
    "            shutil.copyfileobj(f_in, f_out)\n",
    "    os.remove(gz_path)"
   ]
  },
  {
   "cell_type": "markdown",
   "id": "5a58ae63-bf69-4c2a-9e64-340f39a3797e",
   "metadata": {},
   "source": [
    "# 2. Put stations data into stations table in DuckDB. This changes rarely, so we treat it as a almost constant file."
   ]
  },
  {
   "cell_type": "code",
   "execution_count": 4,
   "id": "07b2f006-eddc-4813-a5a4-d026a37a0dd1",
   "metadata": {},
   "outputs": [
    {
     "data": {
      "text/plain": [
       "┌───────────┬─────────┬──────────┬────────────────────────────────────────────────────────────────────────────────────────────┬─────────────────────────────────────────────────────────────────────────────────────────────────┬───────────┐\n",
       "│ database  │ schema  │   name   │                                        column_names                                        │                                          column_types                                           │ temporary │\n",
       "│  varchar  │ varchar │ varchar  │                                         varchar[]                                          │                                            varchar[]                                            │  boolean  │\n",
       "├───────────┼─────────┼──────────┼────────────────────────────────────────────────────────────────────────────────────────────┼─────────────────────────────────────────────────────────────────────────────────────────────────┼───────────┤\n",
       "│ duck_rail │ main    │ stations │ [id, code, uic, name_short, name_medium, name_long, slug, country, type, geo_lat, geo_lng] │ [BIGINT, VARCHAR, BIGINT, VARCHAR, VARCHAR, VARCHAR, VARCHAR, VARCHAR, VARCHAR, DOUBLE, DOUBLE] │ false     │\n",
       "└───────────┴─────────┴──────────┴────────────────────────────────────────────────────────────────────────────────────────────┴─────────────────────────────────────────────────────────────────────────────────────────────────┴───────────┘"
      ]
     },
     "execution_count": 4,
     "metadata": {},
     "output_type": "execute_result"
    }
   ],
   "source": [
    "import duckdb\n",
    "\n",
    "db = duckdb.connect(\"data/duck_rail.db\")\n",
    "db.sql(\"\"\"\n",
    "CREATE TABLE IF NOT EXISTS stations AS\n",
    "FROM read_csv(\"data/stations-2023-09.csv\")\n",
    "\"\"\")\n",
    "db.sql(\"DESCRIBE\")"
   ]
  },
  {
   "cell_type": "markdown",
   "id": "fe8d676b-614a-41d7-8ad1-66907ec2c34f",
   "metadata": {},
   "source": [
    "# 3. Based on DuckDB tutorial, create tables distances and distances_long. We treat this similarly to stations table."
   ]
  },
  {
   "cell_type": "code",
   "execution_count": 5,
   "id": "9dfd748d-2e50-4b82-8c17-32c6759824b5",
   "metadata": {},
   "outputs": [
    {
     "data": {
      "text/plain": [
       "┌─────────────┬─────────────┬─────────┬─────────┬─────────┬─────────┐\n",
       "│ column_name │ column_type │  null   │   key   │ default │  extra  │\n",
       "│   varchar   │   varchar   │ varchar │ varchar │ varchar │ varchar │\n",
       "├─────────────┼─────────────┼─────────┼─────────┼─────────┼─────────┤\n",
       "│ Station     │ VARCHAR     │ YES     │ NULL    │ NULL    │ NULL    │\n",
       "│ AC          │ BIGINT      │ YES     │ NULL    │ NULL    │ NULL    │\n",
       "│ AH          │ BIGINT      │ YES     │ NULL    │ NULL    │ NULL    │\n",
       "│ AHP         │ BIGINT      │ YES     │ NULL    │ NULL    │ NULL    │\n",
       "│ AHPR        │ BIGINT      │ YES     │ NULL    │ NULL    │ NULL    │\n",
       "└─────────────┴─────────────┴─────────┴─────────┴─────────┴─────────┘"
      ]
     },
     "execution_count": 5,
     "metadata": {},
     "output_type": "execute_result"
    }
   ],
   "source": [
    "db.sql(\"\"\"\n",
    "CREATE TABLE IF NOT EXISTS distances AS\n",
    "FROM read_csv(\"data/TARIFF-DISTANCES-2022-01.csv\", nullstr = 'XXX')\n",
    "\"\"\")\n",
    "\n",
    "db.sql(\"\"\"\n",
    "FROM (DESCRIBE distances)\n",
    "LIMIT 5;\n",
    "\"\"\")"
   ]
  },
  {
   "cell_type": "code",
   "execution_count": 6,
   "id": "d9d58d64-a5e5-4b22-8478-ac2ea7f78117",
   "metadata": {},
   "outputs": [],
   "source": [
    "db.sql(\"\"\"\n",
    "CREATE TABLE distances_long AS\n",
    "UNPIVOT distances\n",
    "ON COLUMNS (* EXCLUDE station)\n",
    "INTO NAME other_station VALUE distance;\n",
    "\"\"\")"
   ]
  },
  {
   "cell_type": "markdown",
   "id": "5f62a9f7-de1f-446f-b6f0-a50d233e6c68",
   "metadata": {},
   "source": [
    "# 4. Put train disruptions into disruptions table in the Postgres database. We expect this data to change regularly, and thus treat it as a typical OLTP table."
   ]
  },
  {
   "cell_type": "code",
   "execution_count": 64,
   "id": "05605a8e-7d91-4b53-9714-79088b21db5d",
   "metadata": {},
   "outputs": [],
   "source": [
    "db.sql(\"\"\"INSTALL postgres; LOAD postgres;\"\"\")\n",
    "\n",
    "conn_string = \"host=localhost user=postgres password=postgres dbname=postgres\"\n",
    "\n",
    "db.sql(f\"\"\"\n",
    "ATTACH IF NOT EXISTS '{conn_string}' AS postgres_db (TYPE postgres);\n",
    "\"\"\")\n",
    "\n",
    "files = [f\"data/disruptions/disruptions-{year}.csv\" for year in range(2011, 2024)]\n",
    "db.sql(f\"\"\"\n",
    "CREATE TABLE IF NOT EXISTS postgres_db.disruptions AS\n",
    "FROM read_csv({files})\n",
    "\"\"\")"
   ]
  },
  {
   "cell_type": "markdown",
   "id": "e7f65022-7d4b-4a9d-8790-b811373bc522",
   "metadata": {},
   "source": [
    "# 5. Transform train services CSV files into a single Parquet file. Make table services from it. We treat this as a big data batch input, created rarely but regularly for analytics purposes."
   ]
  },
  {
   "cell_type": "code",
   "execution_count": 11,
   "id": "052ae5e3-f6f1-42e6-93d7-087945b4dfaf",
   "metadata": {},
   "outputs": [
    {
     "data": {
      "application/vnd.jupyter.widget-view+json": {
       "model_id": "f99d5ce0930b4940b6d7b055f4693a0f",
       "version_major": 2,
       "version_minor": 0
      },
      "text/plain": [
       "FloatProgress(value=0.0, layout=Layout(width='auto'), style=ProgressStyle(bar_color='black'))"
      ]
     },
     "metadata": {},
     "output_type": "display_data"
    }
   ],
   "source": [
    "files = []\n",
    "for year in range(2019, 2025):\n",
    "    csv_path = f\"data/services/services-{year}.csv\"\n",
    "    files.append(csv_path)\n",
    "\n",
    "    \n",
    "for month in range(1, 10):\n",
    "    csv_path = f\"data/services/services-2025-{month}.csv\"\n",
    "    files.append(csv_path)\n",
    "    \n",
    "\n",
    "duckdb.sql(f\"\"\"\n",
    "COPY (SELECT * FROM read_csv({files})) TO \"data/services.parquet\" (COMPRESSION zstd);\n",
    "\"\"\")"
   ]
  },
  {
   "cell_type": "code",
   "execution_count": 13,
   "id": "74a221aa-4e1a-41ec-9587-da5fa15773d7",
   "metadata": {},
   "outputs": [
    {
     "data": {
      "application/vnd.jupyter.widget-view+json": {
       "model_id": "b11b8d45cc254f8a94d4f7d3ed58a0d8",
       "version_major": 2,
       "version_minor": 0
      },
      "text/plain": [
       "FloatProgress(value=0.0, layout=Layout(width='auto'), style=ProgressStyle(bar_color='black'))"
      ]
     },
     "metadata": {},
     "output_type": "display_data"
    }
   ],
   "source": [
    "db.sql(\"\"\"\n",
    "CREATE TABLE IF NOT EXISTS services AS\n",
    "FROM \"data/services.parquet\"\n",
    "\"\"\")"
   ]
  },
  {
   "cell_type": "code",
   "execution_count": 22,
   "id": "ca2bf9a5-9ab0-4209-88ca-4ea725562e47",
   "metadata": {},
   "outputs": [
    {
     "data": {
      "text/plain": [
       "┌────────────────┐\n",
       "│      name      │\n",
       "│    varchar     │\n",
       "├────────────────┤\n",
       "│ distances      │\n",
       "│ distances_long │\n",
       "│ services       │\n",
       "│ stations       │\n",
       "└────────────────┘"
      ]
     },
     "execution_count": 22,
     "metadata": {},
     "output_type": "execute_result"
    }
   ],
   "source": [
    "db.sql(\"SHOW TABLES FROM duck_rail\")"
   ]
  },
  {
   "cell_type": "code",
   "execution_count": 23,
   "id": "44c002d4-b7cf-47a1-aed9-f8ccdf0e1389",
   "metadata": {},
   "outputs": [
    {
     "data": {
      "text/plain": [
       "┌─────────────┐\n",
       "│    name     │\n",
       "│   varchar   │\n",
       "├─────────────┤\n",
       "│ disruptions │\n",
       "└─────────────┘"
      ]
     },
     "execution_count": 23,
     "metadata": {},
     "output_type": "execute_result"
    }
   ],
   "source": [
    "db.sql(\"SHOW TABLES FROM postgres_db\")"
   ]
  },
  {
   "cell_type": "code",
   "execution_count": 18,
   "id": "5ed025f1-ee85-42a2-b47d-9192f74a9ea9",
   "metadata": {},
   "outputs": [
    {
     "data": {
      "text/plain": [
       "┌──────────────┐\n",
       "│ count_star() │\n",
       "│    int64     │\n",
       "├──────────────┤\n",
       "│    146556858 │\n",
       "└──────────────┘"
      ]
     },
     "execution_count": 18,
     "metadata": {},
     "output_type": "execute_result"
    }
   ],
   "source": [
    "db.sql(\"SELECT COUNT(*) FROM services\")"
   ]
  },
  {
   "cell_type": "markdown",
   "id": "06e4ff5c-6918-4c94-99e8-3798b0645bc9",
   "metadata": {},
   "source": [
    "# 6. In all following questions, use tables services, distances_long, disruptions and stations as necessary. Remember that each row represents single ride between stations, while the whole end-to-end train service has the same value in Service:RDT-ID column. Note that starting station for a service has NULL value in Stop:Arrival time column, while the end station has NULL value in Stop:Departure time column.\n",
    "\n",
    "# 7. Make queries to answer the following questions: "
   ]
  },
  {
   "cell_type": "code",
   "execution_count": 50,
   "id": "1587f788-48e5-45d7-9c52-37880812e0b5",
   "metadata": {},
   "outputs": [
    {
     "data": {
      "text/plain": [
       "┌──────────────────────────────┬──────────────────────────┬─────────┬─────────┬─────────┬─────────┐\n",
       "│         column_name          │       column_type        │  null   │   key   │ default │  extra  │\n",
       "│           varchar            │         varchar          │ varchar │ varchar │ varchar │ varchar │\n",
       "├──────────────────────────────┼──────────────────────────┼─────────┼─────────┼─────────┼─────────┤\n",
       "│ Service:RDT-ID               │ BIGINT                   │ YES     │ NULL    │ NULL    │ NULL    │\n",
       "│ Service:Date                 │ DATE                     │ YES     │ NULL    │ NULL    │ NULL    │\n",
       "│ Service:Type                 │ VARCHAR                  │ YES     │ NULL    │ NULL    │ NULL    │\n",
       "│ Service:Company              │ VARCHAR                  │ YES     │ NULL    │ NULL    │ NULL    │\n",
       "│ Service:Train number         │ BIGINT                   │ YES     │ NULL    │ NULL    │ NULL    │\n",
       "│ Service:Completely cancelled │ BOOLEAN                  │ YES     │ NULL    │ NULL    │ NULL    │\n",
       "│ Service:Partly cancelled     │ BOOLEAN                  │ YES     │ NULL    │ NULL    │ NULL    │\n",
       "│ Service:Maximum delay        │ BIGINT                   │ YES     │ NULL    │ NULL    │ NULL    │\n",
       "│ Stop:RDT-ID                  │ BIGINT                   │ YES     │ NULL    │ NULL    │ NULL    │\n",
       "│ Stop:Station code            │ VARCHAR                  │ YES     │ NULL    │ NULL    │ NULL    │\n",
       "│ Stop:Station name            │ VARCHAR                  │ YES     │ NULL    │ NULL    │ NULL    │\n",
       "│ Stop:Arrival time            │ TIMESTAMP WITH TIME ZONE │ YES     │ NULL    │ NULL    │ NULL    │\n",
       "│ Stop:Arrival delay           │ BIGINT                   │ YES     │ NULL    │ NULL    │ NULL    │\n",
       "│ Stop:Arrival cancelled       │ BOOLEAN                  │ YES     │ NULL    │ NULL    │ NULL    │\n",
       "│ Stop:Departure time          │ TIMESTAMP WITH TIME ZONE │ YES     │ NULL    │ NULL    │ NULL    │\n",
       "│ Stop:Departure delay         │ BIGINT                   │ YES     │ NULL    │ NULL    │ NULL    │\n",
       "│ Stop:Departure cancelled     │ BOOLEAN                  │ YES     │ NULL    │ NULL    │ NULL    │\n",
       "│ Stop:Platform change         │ BOOLEAN                  │ YES     │ NULL    │ NULL    │ NULL    │\n",
       "│ Stop:Planned platform        │ VARCHAR                  │ YES     │ NULL    │ NULL    │ NULL    │\n",
       "│ Stop:Actual platform         │ VARCHAR                  │ YES     │ NULL    │ NULL    │ NULL    │\n",
       "├──────────────────────────────┴──────────────────────────┴─────────┴─────────┴─────────┴─────────┤\n",
       "│ 20 rows                                                                               6 columns │\n",
       "└─────────────────────────────────────────────────────────────────────────────────────────────────┘"
      ]
     },
     "execution_count": 50,
     "metadata": {},
     "output_type": "execute_result"
    }
   ],
   "source": [
    "db.sql(\"DESCRIBE services\")"
   ]
  },
  {
   "cell_type": "code",
   "execution_count": 49,
   "id": "6357fc0e-c2a1-4864-83bb-0fdd1ed91c32",
   "metadata": {},
   "outputs": [
    {
     "data": {
      "text/plain": [
       "┌─────────────┬─────────────┬─────────┬─────────┬─────────┬─────────┐\n",
       "│ column_name │ column_type │  null   │   key   │ default │  extra  │\n",
       "│   varchar   │   varchar   │ varchar │ varchar │ varchar │ varchar │\n",
       "├─────────────┼─────────────┼─────────┼─────────┼─────────┼─────────┤\n",
       "│ id          │ BIGINT      │ YES     │ NULL    │ NULL    │ NULL    │\n",
       "│ code        │ VARCHAR     │ YES     │ NULL    │ NULL    │ NULL    │\n",
       "│ uic         │ BIGINT      │ YES     │ NULL    │ NULL    │ NULL    │\n",
       "│ name_short  │ VARCHAR     │ YES     │ NULL    │ NULL    │ NULL    │\n",
       "│ name_medium │ VARCHAR     │ YES     │ NULL    │ NULL    │ NULL    │\n",
       "│ name_long   │ VARCHAR     │ YES     │ NULL    │ NULL    │ NULL    │\n",
       "│ slug        │ VARCHAR     │ YES     │ NULL    │ NULL    │ NULL    │\n",
       "│ country     │ VARCHAR     │ YES     │ NULL    │ NULL    │ NULL    │\n",
       "│ type        │ VARCHAR     │ YES     │ NULL    │ NULL    │ NULL    │\n",
       "│ geo_lat     │ DOUBLE      │ YES     │ NULL    │ NULL    │ NULL    │\n",
       "│ geo_lng     │ DOUBLE      │ YES     │ NULL    │ NULL    │ NULL    │\n",
       "├─────────────┴─────────────┴─────────┴─────────┴─────────┴─────────┤\n",
       "│ 11 rows                                                 6 columns │\n",
       "└───────────────────────────────────────────────────────────────────┘"
      ]
     },
     "execution_count": 49,
     "metadata": {},
     "output_type": "execute_result"
    }
   ],
   "source": [
    "db.sql(\"DESCRIBE stations\")"
   ]
  },
  {
   "cell_type": "code",
   "execution_count": 56,
   "id": "653d834b-47ab-47e4-92ef-a43c4530ba49",
   "metadata": {},
   "outputs": [
    {
     "data": {
      "text/plain": [
       "┌──────────────────────┬─────────────┬─────────┬─────────┬─────────┬─────────┐\n",
       "│     column_name      │ column_type │  null   │   key   │ default │  extra  │\n",
       "│       varchar        │   varchar   │ varchar │ varchar │ varchar │ varchar │\n",
       "├──────────────────────┼─────────────┼─────────┼─────────┼─────────┼─────────┤\n",
       "│ rdt_id               │ BIGINT      │ YES     │ NULL    │ NULL    │ NULL    │\n",
       "│ ns_lines             │ VARCHAR     │ YES     │ NULL    │ NULL    │ NULL    │\n",
       "│ rdt_lines            │ VARCHAR     │ YES     │ NULL    │ NULL    │ NULL    │\n",
       "│ rdt_lines_id         │ VARCHAR     │ YES     │ NULL    │ NULL    │ NULL    │\n",
       "│ rdt_station_names    │ VARCHAR     │ YES     │ NULL    │ NULL    │ NULL    │\n",
       "│ rdt_station_codes    │ VARCHAR     │ YES     │ NULL    │ NULL    │ NULL    │\n",
       "│ cause_nl             │ VARCHAR     │ YES     │ NULL    │ NULL    │ NULL    │\n",
       "│ cause_en             │ VARCHAR     │ YES     │ NULL    │ NULL    │ NULL    │\n",
       "│ statistical_cause_nl │ VARCHAR     │ YES     │ NULL    │ NULL    │ NULL    │\n",
       "│ statistical_cause_en │ VARCHAR     │ YES     │ NULL    │ NULL    │ NULL    │\n",
       "│ cause_group          │ VARCHAR     │ YES     │ NULL    │ NULL    │ NULL    │\n",
       "│ start_time           │ TIMESTAMP   │ YES     │ NULL    │ NULL    │ NULL    │\n",
       "│ end_time             │ TIMESTAMP   │ YES     │ NULL    │ NULL    │ NULL    │\n",
       "│ duration_minutes     │ BIGINT      │ YES     │ NULL    │ NULL    │ NULL    │\n",
       "├──────────────────────┴─────────────┴─────────┴─────────┴─────────┴─────────┤\n",
       "│ 14 rows                                                          6 columns │\n",
       "└────────────────────────────────────────────────────────────────────────────┘"
      ]
     },
     "execution_count": 56,
     "metadata": {},
     "output_type": "execute_result"
    }
   ],
   "source": [
    "db.sql(\"DESCRIBE postgres_db.disruptions\")"
   ]
  },
  {
   "cell_type": "code",
   "execution_count": 60,
   "id": "d8ec674b-9513-41aa-bee4-b1d747813b66",
   "metadata": {},
   "outputs": [
    {
     "data": {
      "text/plain": [
       "┌─────────────┬─────────────┬─────────┬─────────┬─────────┬─────────┐\n",
       "│ column_name │ column_type │  null   │   key   │ default │  extra  │\n",
       "│   varchar   │   varchar   │ varchar │ varchar │ varchar │ varchar │\n",
       "├─────────────┼─────────────┼─────────┼─────────┼─────────┼─────────┤\n",
       "│ Station     │ VARCHAR     │ YES     │ NULL    │ NULL    │ NULL    │\n",
       "│ AC          │ BIGINT      │ YES     │ NULL    │ NULL    │ NULL    │\n",
       "│ AH          │ BIGINT      │ YES     │ NULL    │ NULL    │ NULL    │\n",
       "│ AHP         │ BIGINT      │ YES     │ NULL    │ NULL    │ NULL    │\n",
       "│ AHPR        │ BIGINT      │ YES     │ NULL    │ NULL    │ NULL    │\n",
       "│ AHZ         │ BIGINT      │ YES     │ NULL    │ NULL    │ NULL    │\n",
       "│ AKL         │ BIGINT      │ YES     │ NULL    │ NULL    │ NULL    │\n",
       "│ AKM         │ BIGINT      │ YES     │ NULL    │ NULL    │ NULL    │\n",
       "│ ALM         │ BIGINT      │ YES     │ NULL    │ NULL    │ NULL    │\n",
       "│ ALMB        │ BIGINT      │ YES     │ NULL    │ NULL    │ NULL    │\n",
       "│  ·          │   ·         │  ·      │  ·      │  ·      │  ·      │\n",
       "│  ·          │   ·         │  ·      │  ·      │  ·      │  ·      │\n",
       "│  ·          │   ·         │  ·      │  ·      │  ·      │  ·      │\n",
       "│ ZLSH        │ BIGINT      │ YES     │ NULL    │ NULL    │ NULL    │\n",
       "│ ZLW         │ BIGINT      │ YES     │ NULL    │ NULL    │ NULL    │\n",
       "│ ZP          │ BIGINT      │ YES     │ NULL    │ NULL    │ NULL    │\n",
       "│ ZTM         │ BIGINT      │ YES     │ NULL    │ NULL    │ NULL    │\n",
       "│ ZTMO        │ BIGINT      │ YES     │ NULL    │ NULL    │ NULL    │\n",
       "│ ZV          │ BIGINT      │ YES     │ NULL    │ NULL    │ NULL    │\n",
       "│ ZVB         │ BIGINT      │ YES     │ NULL    │ NULL    │ NULL    │\n",
       "│ ZVT         │ BIGINT      │ YES     │ NULL    │ NULL    │ NULL    │\n",
       "│ ZWD         │ BIGINT      │ YES     │ NULL    │ NULL    │ NULL    │\n",
       "│ ZZS         │ BIGINT      │ YES     │ NULL    │ NULL    │ NULL    │\n",
       "├─────────────┴─────────────┴─────────┴─────────┴─────────┴─────────┤\n",
       "│ 400 rows (20 shown)                                     6 columns │\n",
       "└───────────────────────────────────────────────────────────────────┘"
      ]
     },
     "execution_count": 60,
     "metadata": {},
     "output_type": "execute_result"
    }
   ],
   "source": [
    "db.sql(\"DESCRIBE distances\")"
   ]
  },
  {
   "cell_type": "code",
   "execution_count": 59,
   "id": "a3c455cb-d471-484e-8896-885962a3e843",
   "metadata": {},
   "outputs": [
    {
     "data": {
      "text/plain": [
       "┌───────────────┬─────────────┬─────────┬─────────┬─────────┬─────────┐\n",
       "│  column_name  │ column_type │  null   │   key   │ default │  extra  │\n",
       "│    varchar    │   varchar   │ varchar │ varchar │ varchar │ varchar │\n",
       "├───────────────┼─────────────┼─────────┼─────────┼─────────┼─────────┤\n",
       "│ Station       │ VARCHAR     │ YES     │ NULL    │ NULL    │ NULL    │\n",
       "│ other_station │ VARCHAR     │ YES     │ NULL    │ NULL    │ NULL    │\n",
       "│ distance      │ BIGINT      │ YES     │ NULL    │ NULL    │ NULL    │\n",
       "└───────────────┴─────────────┴─────────┴─────────┴─────────┴─────────┘"
      ]
     },
     "execution_count": 59,
     "metadata": {},
     "output_type": "execute_result"
    }
   ],
   "source": [
    "db.sql(\"DESCRIBE distances_long\")"
   ]
  },
  {
   "cell_type": "markdown",
   "id": "09015313-83fd-41d5-8e35-106af2e56b19",
   "metadata": {},
   "source": [
    "## 7.1 How many trains departed from Amsterdam Central station overall?\n",
    "(amsterdam central nie istnieje :( jest amsterdam centr**aa**l)"
   ]
  },
  {
   "cell_type": "code",
   "execution_count": 53,
   "id": "e25f8635-83a6-48c3-a323-365cedf5dcb5",
   "metadata": {},
   "outputs": [
    {
     "data": {
      "text/plain": [
       "┌───────┬─────────┬────────────┬────────────────┬─────────────────────────┐\n",
       "│  id   │  code   │ name_short │  name_medium   │        name_long        │\n",
       "│ int64 │ varchar │  varchar   │    varchar     │         varchar         │\n",
       "├───────┼─────────┼────────────┼────────────────┼─────────────────────────┤\n",
       "│    40 │ ASA     │ Amstel     │ Amstel         │ Amsterdam Amstel        │\n",
       "│    41 │ ASB     │ Bijlmer A  │ Bijlmer ArenA  │ Amsterdam Bijlmer ArenA │\n",
       "│    43 │ ASD     │ Amsterdm C │ Amsterdam C.   │ Amsterdam Centraal      │\n",
       "│    47 │ ASHD    │ Holendrcht │ Holendrecht    │ Amsterdam Holendrecht   │\n",
       "│    44 │ ASDL    │ Lelylaan   │ Lelylaan       │ Amsterdam Lelylaan      │\n",
       "│    45 │ ASDM    │ Muiderprt  │ Muiderpoort    │ Amsterdam Muiderpoort   │\n",
       "│   393 │ RAI     │ RAI        │ RAI            │ Amsterdam RAI           │\n",
       "│    48 │ ASSP    │ Scienceprk │ Science Park   │ Amsterdam Science Park  │\n",
       "│    50 │ ASS     │ Sloterdijk │ Sloterdijk     │ Amsterdam Sloterdijk    │\n",
       "│    46 │ ASDZ    │ Amsterdm Z │ Amsterdam Zuid │ Amsterdam Zuid          │\n",
       "├───────┴─────────┴────────────┴────────────────┴─────────────────────────┤\n",
       "│ 10 rows                                                       5 columns │\n",
       "└─────────────────────────────────────────────────────────────────────────┘"
      ]
     },
     "execution_count": 53,
     "metadata": {},
     "output_type": "execute_result"
    }
   ],
   "source": [
    "db.sql(\"\"\"\n",
    "SELECT id, code, name_short, name_medium, name_long FROM stations\n",
    "WHERE name_long LIKE 'Amsterdam%'\n",
    "\"\"\")"
   ]
  },
  {
   "cell_type": "code",
   "execution_count": 54,
   "id": "57ecfa58-d72b-478b-ad3f-c5bb35a06d9f",
   "metadata": {},
   "outputs": [
    {
     "data": {
      "text/plain": [
       "┌──────────────────────────────┐\n",
       "│ count(\"Stop:Departure time\") │\n",
       "│            int64             │\n",
       "├──────────────────────────────┤\n",
       "│                      1871852 │\n",
       "└──────────────────────────────┘"
      ]
     },
     "execution_count": 54,
     "metadata": {},
     "output_type": "execute_result"
    }
   ],
   "source": [
    "db.sql(\"\"\"\n",
    "SELECT COUNT(\"Stop:Departure time\") FROM services\n",
    "WHERE \"Stop:Station code\" = 'ASD'\n",
    "\"\"\")"
   ]
  },
  {
   "cell_type": "markdown",
   "id": "5dfa975c-f9f9-4dc8-be22-2af4ee31e05c",
   "metadata": {},
   "source": [
    "## 7.2 Calculate the average arrival delay of different service types (Service:Type). Order results descending by average delay."
   ]
  },
  {
   "cell_type": "code",
   "execution_count": 62,
   "id": "3efabd4f-0948-4dc6-b381-c06f490eafef",
   "metadata": {},
   "outputs": [
    {
     "data": {
      "text/plain": [
       "┌──────────────────────┬────────────────────┐\n",
       "│         type         │     avg_delay      │\n",
       "│       varchar        │       double       │\n",
       "├──────────────────────┼────────────────────┤\n",
       "│ Alpen Express        │  31.84254143646409 │\n",
       "│ Krokus Express       │ 18.304347826086957 │\n",
       "│ European Sleeper     │ 14.730917608156517 │\n",
       "│ Nightjet             │  9.256974238121135 │\n",
       "│ Eurostar             │  7.221416941972401 │\n",
       "│ ICE International    │  5.482790573052148 │\n",
       "│ Thalys               │ 5.3961896909446025 │\n",
       "│ Int. Trein           │ 4.9727022780832675 │\n",
       "│ Nachttrein           │ 3.7960975609756096 │\n",
       "│ Stoomtrein           │  3.366863905325444 │\n",
       "│  ·                   │                 ·  │\n",
       "│  ·                   │                 ·  │\n",
       "│  ·                   │                 ·  │\n",
       "│ Bus                  │                0.0 │\n",
       "│ Belbus ipv trein     │                0.0 │\n",
       "│ Belbus               │                0.0 │\n",
       "│ Snelbus i.p.v. trein │                0.0 │\n",
       "│ Metro ipv trein      │                0.0 │\n",
       "│ Niet instappen       │                0.0 │\n",
       "│ Tram i.p.v. trein    │                0.0 │\n",
       "│ Taxibus ipv trein    │                0.0 │\n",
       "│ Metro                │                0.0 │\n",
       "│ Tram ipv trein       │                0.0 │\n",
       "├──────────────────────┴────────────────────┤\n",
       "│ 38 rows (20 shown)              2 columns │\n",
       "└───────────────────────────────────────────┘"
      ]
     },
     "execution_count": 62,
     "metadata": {},
     "output_type": "execute_result"
    }
   ],
   "source": [
    "db.sql(\"\"\"\n",
    "SELECT \"Service:Type\" as type, AVG(\"Stop:Arrival delay\") as avg_delay, FROM services\n",
    "GROUP BY type\n",
    "ORDER BY avg_delay DESC\n",
    "\"\"\")"
   ]
  },
  {
   "cell_type": "markdown",
   "id": "07d66f44-7e16-48c3-981b-c6a9134312eb",
   "metadata": {},
   "source": [
    "## 7.3 What was the most common disruption cause in different years? MODE function may be useful."
   ]
  },
  {
   "cell_type": "code",
   "execution_count": 69,
   "id": "73e3d805-afd6-4e15-bf27-f8dd04d6cef6",
   "metadata": {},
   "outputs": [
    {
     "data": {
      "text/plain": [
       "┌───────┬──────────────────────────┬──────────────────┐\n",
       "│ year  │ most frequent disruption │ disruption count │\n",
       "│ int64 │         varchar          │      int64       │\n",
       "├───────┼──────────────────────────┼──────────────────┤\n",
       "│  2011 │ broken down train        │             1839 │\n",
       "│  2012 │ points failure           │             2071 │\n",
       "│  2013 │ points failure           │             2279 │\n",
       "│  2014 │ broken down train        │             2424 │\n",
       "│  2015 │ broken down train        │             2899 │\n",
       "│  2016 │ broken down train        │             2997 │\n",
       "│  2017 │ broken down train        │             4085 │\n",
       "│  2018 │ broken down train        │             5190 │\n",
       "│  2019 │ broken down train        │             5940 │\n",
       "│  2020 │ broken down train        │             4450 │\n",
       "│  2021 │ broken down train        │             4874 │\n",
       "│  2022 │ broken down train        │             5499 │\n",
       "│  2023 │ broken down train        │             5168 │\n",
       "├───────┴──────────────────────────┴──────────────────┤\n",
       "│ 13 rows                                   3 columns │\n",
       "└─────────────────────────────────────────────────────┘"
      ]
     },
     "execution_count": 69,
     "metadata": {},
     "output_type": "execute_result"
    }
   ],
   "source": [
    "db.sql(\"\"\"\n",
    "SELECT YEAR(\"start_time\") as year, MODE(\"cause_en\") as \"most frequent disruption\", COUNT(\"cause_en\") as \"disruption count\" FROM postgres_db.disruptions\n",
    "GROUP by year\n",
    "ORDER BY year\n",
    "\"\"\")"
   ]
  },
  {
   "cell_type": "markdown",
   "id": "a53d79e7-a624-44a8-bf9f-5ca7b1b9cccf",
   "metadata": {},
   "source": [
    "## 7.4 How many trains started their overall service in any Amsterdam station?"
   ]
  },
  {
   "cell_type": "code",
   "execution_count": 71,
   "id": "5ad6de68-e070-4ac3-bc56-456319b24cc2",
   "metadata": {},
   "outputs": [
    {
     "data": {
      "text/plain": [
       "┌──────────────┐\n",
       "│ count_star() │\n",
       "│    int64     │\n",
       "├──────────────┤\n",
       "│      1243175 │\n",
       "└──────────────┘"
      ]
     },
     "execution_count": 71,
     "metadata": {},
     "output_type": "execute_result"
    }
   ],
   "source": [
    "db.sql(\"\"\"\n",
    "SELECT COUNT(*) FROM services\n",
    "WHERE \"Stop:Station name\" ILIKE '%amsterdam%'\n",
    "AND \"Stop:Arrival time\" IS NULL\n",
    "\"\"\")"
   ]
  },
  {
   "cell_type": "markdown",
   "id": "ed183836-95dd-460e-a218-8cfbcce319ee",
   "metadata": {},
   "source": [
    "## 7.5 What fraction of services was run to final destinations outside the Netherlands?"
   ]
  },
  {
   "cell_type": "code",
   "execution_count": 84,
   "id": "73cedd39-bc20-478a-9b17-8b6a7d102df5",
   "metadata": {},
   "outputs": [
    {
     "data": {
      "text/plain": [
       "┌──────────────────────────────────────────────────────────────────────────────────────────────┐\n",
       "│ (count(DISTINCT \"Service:RDT-ID\") / (SELECT count(DISTINCT \"Service:RDT-ID\") FROM services)) │\n",
       "│                                            double                                            │\n",
       "├──────────────────────────────────────────────────────────────────────────────────────────────┤\n",
       "│                                                                         0.037142935338268394 │\n",
       "└──────────────────────────────────────────────────────────────────────────────────────────────┘"
      ]
     },
     "execution_count": 84,
     "metadata": {},
     "output_type": "execute_result"
    }
   ],
   "source": [
    "db.sql(\"\"\"\n",
    "SELECT COUNT(DISTINCT \"Service:RDT-ID\") / (SELECT COUNT(DISTINCT \"Service:RDT-ID\") FROM services) FROM services\n",
    "JOIN stations ON \"Stop:Station code\" = \"code\"\n",
    "WHERE country != 'NL' AND \"Stop:Departure time\" IS NULL\n",
    "\"\"\")"
   ]
  },
  {
   "cell_type": "markdown",
   "id": "f5785d62-52ac-48b7-8eab-06e0ce53a456",
   "metadata": {},
   "source": [
    "## 7.6 What is the largest distance between stations in the Netherlands (code NL)?"
   ]
  },
  {
   "cell_type": "code",
   "execution_count": 122,
   "id": "188aa23e-eebe-4d22-bdbd-65cf1927bc85",
   "metadata": {},
   "outputs": [
    {
     "data": {
      "text/plain": [
       "┌─────────┬───────────────┬──────────┐\n",
       "│ Station │ other_station │ distance │\n",
       "│ varchar │    varchar    │  int64   │\n",
       "├─────────┼───────────────┼──────────┤\n",
       "│ VS      │ EEM           │      426 │\n",
       "└─────────┴───────────────┴──────────┘"
      ]
     },
     "execution_count": 122,
     "metadata": {},
     "output_type": "execute_result"
    }
   ],
   "source": [
    "db.sql(\"\"\"\n",
    "SELECT Station, other_station, distance FROM distances_long\n",
    "JOIN stations AS stations1 ON Station = stations1.code\n",
    "JOIN stations AS stations2 ON other_station = stations2.code\n",
    "WHERE stations1.country = 'NL' AND stations2.country = 'NL'\n",
    "ORDER BY distance DESC\n",
    "LIMIT 1\n",
    "\"\"\")"
   ]
  },
  {
   "cell_type": "code",
   "execution_count": 94,
   "id": "37ef77ef-1714-47ef-89a2-8d09ec715675",
   "metadata": {},
   "outputs": [
    {
     "data": {
      "text/plain": [
       "┌─────────┬───────────────┬──────────┐\n",
       "│ Station │ other_station │ distance │\n",
       "│ varchar │    varchar    │  int64   │\n",
       "├─────────┼───────────────┼──────────┤\n",
       "│ VS      │ LEER          │      450 │\n",
       "│ LEER    │ VS            │      450 │\n",
       "│ VSS     │ LEER          │      449 │\n",
       "│ LEER    │ VSS           │      449 │\n",
       "│ MDB     │ LEER          │      444 │\n",
       "│ LEER    │ MDB           │      444 │\n",
       "│ LEER    │ ARN           │      440 │\n",
       "│ ARN     │ LEER          │      440 │\n",
       "│ VS      │ WR            │      435 │\n",
       "│ WR      │ VS            │      435 │\n",
       "│ ·       │ ·             │       ·  │\n",
       "│ ·       │ ·             │       ·  │\n",
       "│ ·       │ ·             │       ·  │\n",
       "│ RLB     │ SKND          │      266 │\n",
       "│ RSW     │ MTH           │      266 │\n",
       "│ RTA     │ SDA           │      266 │\n",
       "│ RTA     │ UST           │      266 │\n",
       "│ RTA     │ VDM           │      266 │\n",
       "│ RTA     │ WK            │      266 │\n",
       "│ RTN     │ STM           │      266 │\n",
       "│ RTST    │ ZH            │      266 │\n",
       "│ RTZ     │ BP            │      266 │\n",
       "│ SDA     │ RTA           │      266 │\n",
       "├─────────┴───────────────┴──────────┤\n",
       "│ ? rows                   3 columns │\n",
       "│ (>9999 rows, 20 shown)             │\n",
       "└────────────────────────────────────┘"
      ]
     },
     "execution_count": 94,
     "metadata": {},
     "output_type": "execute_result"
    }
   ],
   "source": [
    "db.sql(\"\"\"\n",
    "SELECT Station, other_station, distance FROM distances_long\n",
    "ORDER BY distance DESC\n",
    "\"\"\")"
   ]
  },
  {
   "cell_type": "markdown",
   "id": "9cc5594d-283e-4d7c-822e-600b0dcf7c80",
   "metadata": {},
   "source": [
    "## 7.7 Compare the average arrival delay between different train operators (Service:Company) on a bar plot. Sort them appropriately."
   ]
  },
  {
   "cell_type": "code",
   "execution_count": 126,
   "id": "6cf71a3e-7def-4895-ae56-54088babdf7e",
   "metadata": {},
   "outputs": [
    {
     "data": {
      "text/plain": [
       "<Axes: ylabel='company'>"
      ]
     },
     "execution_count": 126,
     "metadata": {},
     "output_type": "execute_result"
    },
    {
     "data": {
      "image/png": "[encoded data removed]",
      "text/plain": [
       "<Figure size 1200x1600 with 1 Axes>"
      ]
     },
     "metadata": {},
     "output_type": "display_data"
    }
   ],
   "source": [
    "delay_df = db.sql(\"\"\"\n",
    "SELECT \"Service:Company\" as company, AVG(\"Stop:Arrival delay\") as avg_delay FROM services\n",
    "GROUP BY company\n",
    "ORDER BY avg_delay ASC\n",
    "\"\"\").df()\n",
    "delay_df.plot.barh(x=\"company\", figsize=(12,16))"
   ]
  },
  {
   "cell_type": "markdown",
   "id": "55604fbc-69c3-42df-be25-5a957f8f5f6d",
   "metadata": {},
   "source": [
    "## 7.8 How many services were disrupted in different years? Make a line plot."
   ]
  },
  {
   "cell_type": "code",
   "execution_count": 112,
   "id": "09bac78a-f0de-4f21-a530-f188cf3f203d",
   "metadata": {},
   "outputs": [
    {
     "data": {
      "text/plain": [
       "<Axes: xlabel='year'>"
      ]
     },
     "execution_count": 112,
     "metadata": {},
     "output_type": "execute_result"
    },
    {
     "data": {
      "image/png": "[encoded data removed]",
      "text/plain": [
       "<Figure size 640x480 with 1 Axes>"
      ]
     },
     "metadata": {},
     "output_type": "display_data"
    }
   ],
   "source": [
    "disruptions_df = db.sql(\"\"\"\n",
    "SELECT YEAR(\"start_time\") as year, COUNT(DISTINCT \"rdt_id\") as \"disruption_cnt\" FROM postgres_db.disruptions\n",
    "GROUP BY year\n",
    "ORDER BY year\n",
    "\"\"\").df()\n",
    "disruptions_df.plot(x=\"year\")"
   ]
  },
  {
   "cell_type": "markdown",
   "id": "764290af-28e8-4519-9fe3-3577528c8beb",
   "metadata": {},
   "source": [
    "## 7.9 What fraction of all services were cancelled (Service:Completely cancelled) in different years? Make a line plot.\n",
    "procent odwołanych w tym roku czy ogólnie? tzn.:\n",
    "dla każdego roku:\n",
    "(odwołane w tym roku)/(wszystkie we wszystkich latach):"
   ]
  },
  {
   "cell_type": "code",
   "execution_count": 144,
   "id": "f5340b53-d5fd-4b1f-9439-fe986c75abb8",
   "metadata": {},
   "outputs": [
    {
     "data": {
      "text/plain": [
       "<Axes: xlabel='year'>"
      ]
     },
     "execution_count": 144,
     "metadata": {},
     "output_type": "execute_result"
    },
    {
     "data": {
      "image/png": "[encoded data removed]",
      "text/plain": [
       "<Figure size 640x480 with 1 Axes>"
      ]
     },
     "metadata": {},
     "output_type": "display_data"
    }
   ],
   "source": [
    "cancellations_df1 = db.sql(\"\"\"\n",
    "SELECT YEAR(\"Service:Date\") AS year,\n",
    "COUNT(DISTINCT CASE WHEN \"Service:Completely cancelled\" THEN \"Service:RDT-ID\" END) \n",
    "/ (SELECT COUNT(DISTINCT \"Service:RDT-ID\") FROM services) AS \"cancellations_this_year\"\n",
    "FROM services\n",
    "GROUP BY year\n",
    "ORDER BY year\n",
    "\"\"\").df()\n",
    "cancellations_df1.plot(x=\"year\")"
   ]
  },
  {
   "cell_type": "markdown",
   "id": "1d7ea85c-e457-4ee6-92b8-0d48b0bb393d",
   "metadata": {},
   "source": [
    "czy:\n",
    "(odwołane w tym roku)/(wszystkie w tym roku):"
   ]
  },
  {
   "cell_type": "code",
   "execution_count": 145,
   "id": "f7d2d2b3-ec58-4b45-b955-d39ae81cb8b3",
   "metadata": {},
   "outputs": [
    {
     "data": {
      "text/plain": [
       "<Axes: xlabel='year'>"
      ]
     },
     "execution_count": 145,
     "metadata": {},
     "output_type": "execute_result"
    },
    {
     "data": {
      "image/png": "[encoded data removed]",
      "text/plain": [
       "<Figure size 640x480 with 1 Axes>"
      ]
     },
     "metadata": {},
     "output_type": "display_data"
    }
   ],
   "source": [
    "cancellations_df2 = db.sql(\"\"\"\n",
    "SELECT YEAR(\"Service:Date\") AS year,\n",
    "COUNT(DISTINCT CASE WHEN \"Service:Completely cancelled\" THEN \"Service:RDT-ID\" END) \n",
    "/ COUNT(DISTINCT \"Service:RDT-ID\") AS \"cancellations_this_year\"\n",
    "FROM services\n",
    "GROUP BY year\n",
    "ORDER BY year\n",
    "\"\"\").df()\n",
    "cancellations_df2.plot(x=\"year\")"
   ]
  },
  {
   "cell_type": "markdown",
   "id": "8c75f660-922f-4154-bc11-a1f883ed886d",
   "metadata": {},
   "source": [
    "# 8. Currently, services table does not provide information about service lengths, neither between pairs of stations nor for the end-to-end service. Prepare this information: \n",
    "\n",
    "- Note that each service has the same Service:RDT-ID, and stations can be ordered by Stop:Departure time, with the last one being NULL. Using window functions, specifically LAG() or LEAD(), you can get next row. This example may also be useful.\n",
    "- Create table station_connections, with columns Service:RDT-ID, start_station_code and end_station_code (pair of stations on a route), and distance between them. Note that you should deduplicate the data on station codes, so that every station pair appears only once. Create temporary tables, use a subquery, or any other similar techniques if necessary."
   ]
  },
  {
   "cell_type": "code",
   "execution_count": 156,
   "id": "c3787bb4-2d09-4f9c-8678-513e8eec128a",
   "metadata": {},
   "outputs": [
    {
     "data": {
      "application/vnd.jupyter.widget-view+json": {
       "model_id": "b4100cfbc2834969a3cd10ef7d3c8aa8",
       "version_major": 2,
       "version_minor": 0
      },
      "text/plain": [
       "FloatProgress(value=0.0, layout=Layout(width='auto'), style=ProgressStyle(bar_color='black'))"
      ]
     },
     "metadata": {},
     "output_type": "display_data"
    },
    {
     "data": {
      "text/plain": [
       "┌────────────┬───────────────┬─────────────┐\n",
       "│ service_id │ start_station │ end_station │\n",
       "│   int64    │    varchar    │   varchar   │\n",
       "├────────────┼───────────────┼─────────────┤\n",
       "│     739065 │ HRL           │ HRLW        │\n",
       "│     739065 │ HRLW          │ VDL         │\n",
       "│     739065 │ VDL           │ KMR         │\n",
       "│     739065 │ KMR           │ SOG         │\n",
       "│     739065 │ SOG           │ VK          │\n",
       "│     739065 │ VK            │ SGL         │\n",
       "│     739065 │ SGL           │ MES         │\n",
       "│     739065 │ MES           │ MTN         │\n",
       "│     739065 │ MTN           │ MT          │\n",
       "│     739065 │ MT            │ MTR         │\n",
       "│        ·   │ ·             │  ·          │\n",
       "│        ·   │ ·             │  ·          │\n",
       "│        ·   │ ·             │  ·          │\n",
       "│    1048715 │ HRL           │ HRLW        │\n",
       "│    1048715 │ HRLW          │ VDL         │\n",
       "│    1048715 │ VDL           │ KMR         │\n",
       "│    1048715 │ KMR           │ SOG         │\n",
       "│    1048715 │ SOG           │ VK          │\n",
       "│    1048715 │ VK            │ SGL         │\n",
       "│    1048715 │ SGL           │ MES         │\n",
       "│    1048715 │ MES           │ MTN         │\n",
       "│    1048715 │ MTN           │ MT          │\n",
       "│    1048715 │ MT            │ MTR         │\n",
       "├────────────┴───────────────┴─────────────┤\n",
       "│ ? rows (>9999 rows, 20 shown)  3 columns │\n",
       "└──────────────────────────────────────────┘"
      ]
     },
     "execution_count": 156,
     "metadata": {},
     "output_type": "execute_result"
    }
   ],
   "source": [
    "db.sql(\"\"\"\n",
    "WITH consecutive_stops AS (\n",
    "    SELECT \"Service:RDT-ID\" AS service_id, \"Stop:Station code\" AS start_station,\n",
    "    LEAD(\"Stop:Station code\") OVER (PARTITION BY \"Service:RDT-ID\" ORDER BY \"Stop:Departure time\") AS end_station\n",
    "    FROM services\n",
    ")\n",
    "SELECT * FROM consecutive_stops\n",
    "WHERE end_station IS NOT NULL\n",
    "\"\"\")"
   ]
  },
  {
   "cell_type": "code",
   "execution_count": 157,
   "id": "3ddba67b-dbac-40d4-8fc4-0ff93b99d764",
   "metadata": {},
   "outputs": [
    {
     "data": {
      "application/vnd.jupyter.widget-view+json": {
       "model_id": "0becd2013bff4b03805eb5e9d4dbed63",
       "version_major": 2,
       "version_minor": 0
      },
      "text/plain": [
       "FloatProgress(value=0.0, layout=Layout(width='auto'), style=ProgressStyle(bar_color='black'))"
      ]
     },
     "metadata": {},
     "output_type": "display_data"
    },
    {
     "data": {
      "text/plain": [
       "┌────────────┬───────────────┬─────────────┬──────────┐\n",
       "│ service_id │ start_station │ end_station │ distance │\n",
       "│   int64    │    varchar    │   varchar   │  int64   │\n",
       "├────────────┼───────────────┼─────────────┼──────────┤\n",
       "│    8981507 │ RSD           │ DDR         │       38 │\n",
       "│    8984105 │ UTLR          │ UT          │        3 │\n",
       "│    8987189 │ DMNZ          │ WP          │        7 │\n",
       "│    8989232 │ BSD           │ GDM         │        7 │\n",
       "│    8994828 │ SHL           │ RTD         │       67 │\n",
       "│    8996582 │ SHL           │ RTD         │       67 │\n",
       "│    8997227 │ KTR           │ TL          │       12 │\n",
       "│    8998468 │ UTLN          │ UTVR        │        3 │\n",
       "│    8998618 │ NDB           │ AMPO        │       22 │\n",
       "│    8999158 │ AC            │ ASHD        │        4 │\n",
       "│       ·    │ ·             │  ·          │        · │\n",
       "│       ·    │ ·             │  ·          │        · │\n",
       "│       ·    │ ·             │  ·          │        · │\n",
       "│    7235124 │ TL            │ TPSW        │        2 │\n",
       "│    7235124 │ VB            │ GVC         │        3 │\n",
       "│    7237768 │ SHL           │ ASDZ        │       11 │\n",
       "│    7245599 │ MT            │ MTR         │        1 │\n",
       "│    7245716 │ UTO           │ UT          │        3 │\n",
       "│    7247104 │ GD            │ GDG         │        3 │\n",
       "│    7247104 │ ZD            │ KZ          │        2 │\n",
       "│    7250374 │ MRB           │ OMN         │       11 │\n",
       "│    7250374 │ DL            │ ZL          │       12 │\n",
       "│    7251435 │ HKS           │ BKG         │        4 │\n",
       "├────────────┴───────────────┴─────────────┴──────────┤\n",
       "│ ? rows (>9999 rows, 20 shown)             4 columns │\n",
       "└─────────────────────────────────────────────────────┘"
      ]
     },
     "execution_count": 157,
     "metadata": {},
     "output_type": "execute_result"
    }
   ],
   "source": [
    "db.sql(\"\"\"\n",
    "WITH consecutive_stops AS (\n",
    "    SELECT \"Service:RDT-ID\" AS service_id, \"Stop:Station code\" AS start_station,\n",
    "    LEAD(\"Stop:Station code\") OVER (PARTITION BY \"Service:RDT-ID\" ORDER BY \"Stop:Departure time\") AS end_station\n",
    "    FROM services\n",
    ")\n",
    "SELECT DISTINCT cs.service_id, cs.start_station, cs.end_station, d.distance FROM consecutive_stops AS cs\n",
    "JOIN distances_long AS d ON cs.start_station = d.Station AND cs.end_station = d.other_station\n",
    "WHERE cs.end_station IS NOT NULL\n",
    "\"\"\")"
   ]
  },
  {
   "cell_type": "markdown",
   "id": "79cac451-bc86-4113-bc9c-11a608033a14",
   "metadata": {},
   "source": [
    "- What is the largest distance between a pair of stations?"
   ]
  },
  {
   "cell_type": "code",
   "execution_count": 158,
   "id": "a372e9c0-7d0c-403e-9e99-1dc4b4144bc5",
   "metadata": {},
   "outputs": [
    {
     "data": {
      "application/vnd.jupyter.widget-view+json": {
       "model_id": "509aeba72343440da209270448eda64a",
       "version_major": 2,
       "version_minor": 0
      },
      "text/plain": [
       "FloatProgress(value=0.0, layout=Layout(width='auto'), style=ProgressStyle(bar_color='black'))"
      ]
     },
     "metadata": {},
     "output_type": "display_data"
    },
    {
     "data": {
      "text/plain": [
       "┌────────────┬───────────────┬─────────────┬──────────┐\n",
       "│ service_id │ start_station │ end_station │ distance │\n",
       "│   int64    │    varchar    │   varchar   │  int64   │\n",
       "├────────────┼───────────────┼─────────────┼──────────┤\n",
       "│    7123300 │ STV           │ VS          │      421 │\n",
       "└────────────┴───────────────┴─────────────┴──────────┘"
      ]
     },
     "execution_count": 158,
     "metadata": {},
     "output_type": "execute_result"
    }
   ],
   "source": [
    "db.sql(\"\"\"\n",
    "WITH consecutive_stops AS (\n",
    "    SELECT \"Service:RDT-ID\" AS service_id, \"Stop:Station code\" AS start_station,\n",
    "    LEAD(\"Stop:Station code\") OVER (PARTITION BY \"Service:RDT-ID\" ORDER BY \"Stop:Departure time\") AS end_station\n",
    "    FROM services\n",
    ")\n",
    "SELECT DISTINCT cs.service_id, cs.start_station, cs.end_station, d.distance FROM consecutive_stops AS cs\n",
    "JOIN distances_long AS d ON cs.start_station = d.Station AND cs.end_station = d.other_station\n",
    "WHERE cs.end_station IS NOT NULL\n",
    "ORDER BY d.distance DESC\n",
    "LIMIT 1\n",
    "\"\"\")"
   ]
  },
  {
   "cell_type": "markdown",
   "id": "537a3d90-ca43-495a-bf73-6311b60dfad0",
   "metadata": {},
   "source": [
    "- Plot a histogram of inter-station distances run by trains."
   ]
  },
  {
   "cell_type": "code",
   "execution_count": 153,
   "id": "770722c2-3b93-4aca-b92e-1ba8d10bceb8",
   "metadata": {},
   "outputs": [
    {
     "data": {
      "application/vnd.jupyter.widget-view+json": {
       "model_id": "cb202aacf5d749969544e8f37e46f4f3",
       "version_major": 2,
       "version_minor": 0
      },
      "text/plain": [
       "FloatProgress(value=0.0, layout=Layout(width='auto'), style=ProgressStyle(bar_color='black'))"
      ]
     },
     "metadata": {},
     "output_type": "display_data"
    }
   ],
   "source": [
    "dist_df = db.sql(\"\"\"\n",
    "WITH consecutive_stops AS (\n",
    "    SELECT \"Service:RDT-ID\" AS service_id, \"Stop:Station code\" AS start_station,\n",
    "    LEAD(\"Stop:Station code\") OVER (PARTITION BY \"Service:RDT-ID\" ORDER BY \"Stop:Departure time\") AS end_station\n",
    "    FROM services\n",
    ")\n",
    "SELECT DISTINCT cs.service_id, cs.start_station, cs.end_station, d.distance FROM consecutive_stops AS cs\n",
    "JOIN distances_long AS d ON cs.start_station = d.Station AND cs.end_station = d.other_station\n",
    "WHERE cs.end_station IS NOT NULL\n",
    "ORDER BY d.distance DESC\n",
    "\"\"\").df()"
   ]
  },
  {
   "cell_type": "code",
   "execution_count": 155,
   "id": "40efb399-00e7-4773-bf06-77d1ae747da9",
   "metadata": {},
   "outputs": [
    {
     "data": {
      "text/plain": [
       "<Axes: ylabel='Frequency'>"
      ]
     },
     "execution_count": 155,
     "metadata": {},
     "output_type": "execute_result"
    },
    {
     "data": {
      "image/png": "[encoded data removed]",
      "text/plain": [
       "<Figure size 640x480 with 1 Axes>"
      ]
     },
     "metadata": {},
     "output_type": "display_data"
    }
   ],
   "source": [
    "dist_df[\"distance\"].plot.hist(bins = 50)"
   ]
  },
  {
   "cell_type": "code",
   "execution_count": null,
   "id": "a2931d36-2f51-4dbf-b52a-bc18d0d2e487",
   "metadata": {},
   "outputs": [],
   "source": []
  }
 ],
 "metadata": {
  "kernelspec": {
   "display_name": "Python 3 (ipykernel)",
   "language": "python",
   "name": "python3"
  },
  "language_info": {
   "codemirror_mode": {
    "name": "ipython",
    "version": 3
   },
   "file_extension": ".py",
   "mimetype": "text/x-python",
   "name": "python",
   "nbconvert_exporter": "python",
   "pygments_lexer": "ipython3",
   "version": "3.12.6"
  }
 },
 "nbformat": 4,
 "nbformat_minor": 5
}
